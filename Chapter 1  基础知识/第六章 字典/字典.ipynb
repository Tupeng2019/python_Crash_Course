{
 "cells": [
  {
   "cell_type": "code",
   "execution_count": 1,
   "metadata": {},
   "outputs": [
    {
     "name": "stdout",
     "output_type": "stream",
     "text": [
      "green\n"
     ]
    }
   ],
   "source": [
    "# 字典\n",
    "alien_0 = {'color':'green'}\n",
    "print(alien_0['color'])"
   ]
  },
  {
   "cell_type": "code",
   "execution_count": 5,
   "metadata": {},
   "outputs": [
    {
     "name": "stdout",
     "output_type": "stream",
     "text": [
      "tu\n"
     ]
    }
   ],
   "source": [
    "'''\n",
    "添加键值对\n",
    "字典是一种动态结构，可以随时的添加键值对\n",
    "'''\n",
    "#  6-1\n",
    "text = {'first_name':'tu','last_name':'peng','age':26,'city':'changchun'}\n",
    "print(text['first_name'])"
   ]
  },
  {
   "cell_type": "code",
   "execution_count": 7,
   "metadata": {},
   "outputs": [
    {
     "name": "stdout",
     "output_type": "stream",
     "text": [
      "\n",
      "key:first_name\n",
      "value:tu\n",
      "\n",
      "key:last_name\n",
      "value:peng\n",
      "\n",
      "key:age\n",
      "value:26\n",
      "\n",
      "key:city\n",
      "value:changchun\n"
     ]
    }
   ],
   "source": [
    "# 遍历字典\n",
    "text = {'first_name':'tu','last_name':'peng','age':'26','city':'changchun'}\n",
    "for key,value in text.items():\n",
    "    print(\"\\nkey:\" + key)\n",
    "    print(\"value:\" + value)"
   ]
  },
  {
   "cell_type": "code",
   "execution_count": 11,
   "metadata": {},
   "outputs": [
    {
     "name": "stdout",
     "output_type": "stream",
     "text": [
      "Jenthank you for taking the poling.\n",
      "Nihaothank you for taking the poling.\n",
      "Pthithank you for taking the poling.\n",
      "Tupegnthank you for taking the poling.\n"
     ]
    }
   ],
   "source": [
    "# 按顺序遍历字典中的所有键\n",
    "favorite_languages ={\n",
    "    'jen': 'python',\n",
    "    'tupegn':'C',\n",
    "    'nihao': 'tuby',\n",
    "    'pthi':'python'\n",
    "}\n",
    "# sorted 就是表示对该列表的键进行了排序，并且是才生的副本\n",
    "for name in sorted(favorite_languages.keys()):\n",
    "    print(name.title() + 'thank you for taking the poling.')"
   ]
  },
  {
   "cell_type": "code",
   "execution_count": 14,
   "metadata": {},
   "outputs": [
    {
     "name": "stdout",
     "output_type": "stream",
     "text": [
      "The following language have been mentined:\n",
      "Python\n",
      "C\n",
      "Tuby\n",
      "Python\n"
     ]
    }
   ],
   "source": [
    "# 遍历字典当中的值\n",
    "favorite_languages ={\n",
    "    'jen': 'python',\n",
    "    'tupegn':'C',\n",
    "    'nihao': 'tuby',\n",
    "    'pthi':'python'\n",
    "}\n",
    "print(\"The following language have been mentined:\")\n",
    "# 方法values就是表示对值的遍历\n",
    "for language in favorite_languages.values():\n",
    "    print(language.title())"
   ]
  },
  {
   "cell_type": "code",
   "execution_count": 16,
   "metadata": {},
   "outputs": [
    {
     "name": "stdout",
     "output_type": "stream",
     "text": [
      "The following language have been mentined:\n",
      "Tuby\n",
      "Python\n",
      "C\n"
     ]
    }
   ],
   "source": [
    "'''\n",
    "当出现重复的值时，就可以调用set方法了\n",
    "'''\n",
    "# 遍历字典当中的值\n",
    "favorite_languages ={\n",
    "    'jen': 'python',\n",
    "    'tupegn':'C',\n",
    "    'nihao': 'tuby',\n",
    "    'pthi':'python'\n",
    "}\n",
    "print(\"The following language have been mentined:\")\n",
    "# 方法values就是表示对值的遍历\n",
    "# 使用set方法剔除重复的值\n",
    "for language in set(favorite_languages.values()):\n",
    "    print(language.title())"
   ]
  },
  {
   "cell_type": "code",
   "execution_count": 19,
   "metadata": {},
   "outputs": [
    {
     "name": "stdout",
     "output_type": "stream",
     "text": [
      "The Nile runs through Egypt\n",
      "The Tu runs through Sdfl\n",
      "The Nihao runs through Chian\n"
     ]
    }
   ],
   "source": [
    "# 6-5 \n",
    "rivers ={'nile':'egypt','tu':'sdfl','nihao':'chian'}\n",
    "for key,value in rivers.items():\n",
    "    print('The ' + key.title() + ' runs through ' + value.title())"
   ]
  },
  {
   "cell_type": "code",
   "execution_count": 20,
   "metadata": {},
   "outputs": [
    {
     "name": "stdout",
     "output_type": "stream",
     "text": [
      "nile\n",
      "tu\n",
      "nihao\n"
     ]
    }
   ],
   "source": [
    "# 只打印河流名字\n",
    "rivers ={'nile':'egypt','tu':'sdfl','nihao':'chian'}\n",
    "for key in rivers:\n",
    "    print(key)"
   ]
  },
  {
   "cell_type": "code",
   "execution_count": 23,
   "metadata": {},
   "outputs": [
    {
     "name": "stdout",
     "output_type": "stream",
     "text": [
      "Egypt\n",
      "Sdfl\n",
      "Chian\n"
     ]
    }
   ],
   "source": [
    "# 只打国家名字\n",
    "rivers ={'nile':'egypt','tu':'sdfl','nihao':'chian'}\n",
    "for value in rivers.values():\n",
    "    print(value.title())"
   ]
  },
  {
   "cell_type": "code",
   "execution_count": 26,
   "metadata": {},
   "outputs": [
    {
     "name": "stdout",
     "output_type": "stream",
     "text": [
      "{'nile': 'egypt', 'tu': 'sdfl', 'nihao': 'chian'}\n",
      "{'nile': 'egypt', 'tu': 'sdfl', 'nihao': 'chian'}\n",
      "{'nile': 'egypt', 'tu': 'sdfl', 'nihao': 'chian'}\n",
      "{'nile': 'egypt', 'tu': 'sdfl', 'nihao': 'chian'}\n",
      "{'nile': 'egypt', 'tu': 'sdfl', 'nihao': 'chian'}\n",
      "********************************************************************************\n",
      "[{'nile': 'egypt', 'tu': 'sdfl', 'nihao': 'chian'}, {'nile': 'egypt', 'tu': 'sdfl', 'nihao': 'chian'}, {'nile': 'egypt', 'tu': 'sdfl', 'nihao': 'chian'}, {'nile': 'egypt', 'tu': 'sdfl', 'nihao': 'chian'}, {'nile': 'egypt', 'tu': 'sdfl', 'nihao': 'chian'}, {'nile': 'egypt', 'tu': 'sdfl', 'nihao': 'chian'}, {'nile': 'egypt', 'tu': 'sdfl', 'nihao': 'chian'}, {'nile': 'egypt', 'tu': 'sdfl', 'nihao': 'chian'}, {'nile': 'egypt', 'tu': 'sdfl', 'nihao': 'chian'}, {'nile': 'egypt', 'tu': 'sdfl', 'nihao': 'chian'}, {'nile': 'egypt', 'tu': 'sdfl', 'nihao': 'chian'}, {'nile': 'egypt', 'tu': 'sdfl', 'nihao': 'chian'}, {'nile': 'egypt', 'tu': 'sdfl', 'nihao': 'chian'}, {'nile': 'egypt', 'tu': 'sdfl', 'nihao': 'chian'}, {'nile': 'egypt', 'tu': 'sdfl', 'nihao': 'chian'}, {'nile': 'egypt', 'tu': 'sdfl', 'nihao': 'chian'}, {'nile': 'egypt', 'tu': 'sdfl', 'nihao': 'chian'}, {'nile': 'egypt', 'tu': 'sdfl', 'nihao': 'chian'}, {'nile': 'egypt', 'tu': 'sdfl', 'nihao': 'chian'}, {'nile': 'egypt', 'tu': 'sdfl', 'nihao': 'chian'}, {'nile': 'egypt', 'tu': 'sdfl', 'nihao': 'chian'}, {'nile': 'egypt', 'tu': 'sdfl', 'nihao': 'chian'}, {'nile': 'egypt', 'tu': 'sdfl', 'nihao': 'chian'}, {'nile': 'egypt', 'tu': 'sdfl', 'nihao': 'chian'}, {'nile': 'egypt', 'tu': 'sdfl', 'nihao': 'chian'}, {'nile': 'egypt', 'tu': 'sdfl', 'nihao': 'chian'}, {'nile': 'egypt', 'tu': 'sdfl', 'nihao': 'chian'}, {'nile': 'egypt', 'tu': 'sdfl', 'nihao': 'chian'}, {'nile': 'egypt', 'tu': 'sdfl', 'nihao': 'chian'}, {'nile': 'egypt', 'tu': 'sdfl', 'nihao': 'chian'}]\n",
      "Total number of aliens: 30\n"
     ]
    }
   ],
   "source": [
    "'''\n",
    "嵌套\n",
    "\n",
    "'''\n",
    "aliens =[]\n",
    "for alien_number in range(30):\n",
    "    new_alien ={'nile':'egypt','tu':'sdfl','nihao':'chian'}\n",
    "    aliens.append(new_alien)\n",
    "# 显示前五个\n",
    "for alien in aliens[:5]:\n",
    "    print(alien)\n",
    "print('*' *80)\n",
    "print(aliens)\n",
    "# 显示一共有的数量\n",
    "print(\"Total number of aliens: \" + str(len(aliens)))"
   ]
  },
  {
   "cell_type": "code",
   "execution_count": 28,
   "metadata": {},
   "outputs": [
    {
     "name": "stdout",
     "output_type": "stream",
     "text": [
      "{'leixing': 'dog', 'zhuren': 'tu'}\n",
      "{'leixing': 'cat', 'zhuren': 'peng'}\n",
      "{'leixing': 'pig', 'zhuren': 'renren'}\n"
     ]
    }
   ],
   "source": [
    "# 6-8\n",
    "pet1 = {'leixing':'dog','zhuren':'tu'}\n",
    "pet2 = {'leixing':'cat','zhuren':'peng'}\n",
    "pet3 = {'leixing':'pig','zhuren':'renren'}\n",
    "animols = [pet1,pet2,pet3]\n",
    "for animol in animols:\n",
    "    print(animol)"
   ]
  },
  {
   "cell_type": "code",
   "execution_count": 30,
   "metadata": {},
   "outputs": [
    {
     "name": "stdout",
     "output_type": "stream",
     "text": [
      "pet1喜欢的地方是:\n",
      "Leixing\n",
      "Dog\n",
      "Tu\n",
      "pet2喜欢的地方是:\n",
      "Leixing\n",
      "Dog\n"
     ]
    }
   ],
   "source": [
    "# 这是 嵌套 ，字典里面嵌套的就是列表\n",
    "pets = {'pet1':['leixing','dog','tu'],'pet2':['leixing','dog']}\n",
    "for key,values in pets.items():\n",
    "    print(key +\"喜欢的地方是:\")\n",
    "    for difang in values:\n",
    "        print(difang.title())"
   ]
  },
  {
   "cell_type": "code",
   "execution_count": null,
   "metadata": {},
   "outputs": [],
   "source": []
  }
 ],
 "metadata": {
  "kernelspec": {
   "display_name": "Python 3",
   "language": "python",
   "name": "python3"
  },
  "language_info": {
   "codemirror_mode": {
    "name": "ipython",
    "version": 3
   },
   "file_extension": ".py",
   "mimetype": "text/x-python",
   "name": "python",
   "nbconvert_exporter": "python",
   "pygments_lexer": "ipython3",
   "version": "3.7.1"
  }
 },
 "nbformat": 4,
 "nbformat_minor": 2
}
