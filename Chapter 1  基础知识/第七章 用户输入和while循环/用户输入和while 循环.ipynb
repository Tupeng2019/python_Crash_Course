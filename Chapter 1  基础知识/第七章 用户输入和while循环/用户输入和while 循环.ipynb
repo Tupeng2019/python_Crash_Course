{
 "cells": [
  {
   "cell_type": "code",
   "execution_count": 2,
   "metadata": {},
   "outputs": [
    {
     "data": {
      "text/plain": [
       "'\\ninput 函数的工作原理\\n\\n'"
      ]
     },
     "execution_count": 2,
     "metadata": {},
     "output_type": "execute_result"
    }
   ],
   "source": [
    "'''\n",
    "input 函数的工作原理\n",
    "\n",
    "'''"
   ]
  },
  {
   "cell_type": "code",
   "execution_count": 7,
   "metadata": {},
   "outputs": [
    {
     "name": "stdout",
     "output_type": "stream",
     "text": [
      "\n",
      "Tell me something, and I will repeat it back to you:\n",
      "Enter 'quit' to end the program.Hello niaho\n",
      "Hello niaho\n",
      "\n",
      "Tell me something, and I will repeat it back to you:\n",
      "Enter 'quit' to end the program.qiut\n",
      "qiut\n",
      "\n",
      "Tell me something, and I will repeat it back to you:\n",
      "Enter 'quit' to end the program.quit\n"
     ]
    }
   ],
   "source": [
    "'''\n",
    "while 循环简介\n",
    "  - 使用标志\n",
    "'''\n",
    "prompt = \"\\nTell me something, and I will repeat it back to you:\"\n",
    "prompt +=\"\\nEnter 'quit' to end the program.\"\n",
    " # 将标志命名为active ，当然这个标志可以是任何的名字\n",
    "active = True\n",
    "while active:\n",
    "    message = input(prompt)\n",
    "    if message == 'quit':\n",
    "        active = False\n",
    "    else:\n",
    "        print(message)"
   ]
  },
  {
   "cell_type": "code",
   "execution_count": 8,
   "metadata": {},
   "outputs": [
    {
     "name": "stdout",
     "output_type": "stream",
     "text": [
      "\n",
      "Please enter the name of a city you have visited:\n",
      "(Enter 'quit' when you are finished.)new youk\n",
      "I'd love to go to New Youk!\n",
      "\n",
      "Please enter the name of a city you have visited:\n",
      "(Enter 'quit' when you are finished.)sdan francisco\n",
      "I'd love to go to Sdan Francisco!\n",
      "\n",
      "Please enter the name of a city you have visited:\n",
      "(Enter 'quit' when you are finished.)quit\n"
     ]
    }
   ],
   "source": [
    "# 使用break退出循环\n",
    "prompt = \"\\nPlease enter the name of a city you have visited:\"\n",
    "prompt += \"\\n(Enter 'quit' when you are finished.)\"\n",
    "while True:\n",
    "    city = input(prompt)\n",
    "    \n",
    "    if city == 'quit':\n",
    "        break\n",
    "    else:\n",
    "        print(\"I'd love to go to \" + city.title() + \"!\")"
   ]
  },
  {
   "cell_type": "code",
   "execution_count": 10,
   "metadata": {},
   "outputs": [
    {
     "name": "stdout",
     "output_type": "stream",
     "text": [
      "1\n",
      "3\n",
      "5\n",
      "7\n",
      "9\n"
     ]
    }
   ],
   "source": [
    "\n",
    "# 在循环中使用continue\n",
    "# 从1到10 值打印奇数的循环\n",
    "current_number = 0\n",
    "while current_number <10:\n",
    "    current_number +=1\n",
    "    if current_number % 2 ==0:\n",
    "        continue\n",
    "    print(current_number)"
   ]
  },
  {
   "cell_type": "code",
   "execution_count": 11,
   "metadata": {},
   "outputs": [
    {
     "name": "stdout",
     "output_type": "stream",
     "text": [
      "please input your age :\n",
      "56\n",
      "your price is 15 $!\n"
     ]
    }
   ],
   "source": [
    "# 7-5\n",
    "# 电影票的问题\n",
    "ages = input(\"please input your age :\\n\")\n",
    "age = int(ages)\n",
    "while age<3:\n",
    "    print(\"your price is free!\")\n",
    "    break\n",
    "while 3<age<=12:\n",
    "    print(\"your price is 10 $!\")\n",
    "    break\n",
    "while age >12:\n",
    "    print(\"your price is 15 $!\")\n",
    "    break"
   ]
  },
  {
   "cell_type": "code",
   "execution_count": 14,
   "metadata": {},
   "outputs": [
    {
     "name": "stdout",
     "output_type": "stream",
     "text": [
      "Verifying user:Candace\n",
      "Verifying user:Brian\n",
      "Verifying user:Tupeng\n",
      "\n",
      "The following users have been confirmed:\n",
      "Candace\n",
      "Brian\n",
      "Tupeng\n"
     ]
    }
   ],
   "source": [
    "'''\n",
    "用while循环来处理列表和字典\n",
    "\n",
    "'''\n",
    "# 首先，创建一个待验正的用户列表\n",
    "unconfirmed_users = ['tupeng', 'brian', 'candace']\n",
    "# 再创建一个用于存储已经验证用户的空列表\n",
    "confirmed_users = []\n",
    "# 验证每一个用户，直到没有未验证的用户为止\n",
    "# 将每一个经过验证的列表都转移到已经验证过得用户列表当中\n",
    "while unconfirmed_users:\n",
    "    current_user = unconfirmed_users.pop()\n",
    "    print(\"Verifying user:\" + current_user.title())\n",
    "    confirmed_users.append(current_user)\n",
    "# 显示所有的已经验证的用户\n",
    "print(\"\\nThe following users have been confirmed:\")\n",
    "for confirmed_user in confirmed_users:\n",
    "    print(confirmed_user.title())"
   ]
  },
  {
   "cell_type": "code",
   "execution_count": 15,
   "metadata": {},
   "outputs": [
    {
     "name": "stdout",
     "output_type": "stream",
     "text": [
      "['dog', 'cat', 'dog', 'goldfish', 'cat', 'rabbit', 'cat']\n",
      "['dog', 'dog', 'goldfish', 'rabbit']\n"
     ]
    }
   ],
   "source": [
    "# 删除包含特定值的所有列表元素\n",
    "pets = ['dog', 'cat','dog','goldfish','cat','rabbit','cat']\n",
    "print(pets)\n",
    "\n",
    "while 'cat' in pets:\n",
    "    pets.remove('cat')\n",
    "print(pets)"
   ]
  },
  {
   "cell_type": "code",
   "execution_count": 17,
   "metadata": {},
   "outputs": [
    {
     "name": "stdout",
     "output_type": "stream",
     "text": [
      "\n",
      "What is your name:eric\n",
      "Which mountain would you like to climb someby?denali\n",
      "Would you like to let another person response? (yes/no)yes\n",
      "\n",
      "What is your name:lynn \n",
      "Which mountain would you like to climb someby?Devil's Thumb\n",
      "Would you like to let another person response? (yes/no)no \n",
      "\n",
      "What is your name:fk;'\n",
      "Which mountain would you like to climb someby?lghjk\n",
      "Would you like to let another person response? (yes/no)no\n",
      "\n",
      " ----poll Result ----\n",
      "ericwould like to climbdenali.\n",
      "lynn would like to climbDevil's Thumb.\n",
      "fk;'would like to climblghjk.\n"
     ]
    }
   ],
   "source": [
    "'''\n",
    "使用用户输入来填充字典\n",
    "'''\n",
    "responses = {}\n",
    "# 设置一个标志，指出调查是否要继续\n",
    "polling_active = True\n",
    "while polling_active:\n",
    "    # 提示输入被调查这的名字和回答\n",
    "    name = input(\"\\nWhat is your name:\")\n",
    "    response = input(\"Which mountain would you like to climb someby?\")\n",
    "    \n",
    "    # 将回答存储在字典中\n",
    "    responses[name] = response\n",
    "    # 看看是否还有人参与调查\n",
    "    repeat = input(\"Would you like to let another person response? (yes/no)\")\n",
    "    if repeat == 'no':\n",
    "        polling_active = False\n",
    "        \n",
    "# 调查结果\n",
    "print(\"\\n ----poll Result ----\")\n",
    "for name,response in responses.items():\n",
    "    print(name + \"would like to climb\" + response + \".\")\n",
    "    "
   ]
  },
  {
   "cell_type": "code",
   "execution_count": 21,
   "metadata": {},
   "outputs": [
    {
     "name": "stdout",
     "output_type": "stream",
     "text": [
      "所有的都做好了：\n",
      "xiaomai\n",
      "mainbao\n",
      "baozi\n"
     ]
    }
   ],
   "source": [
    "# 7-8 面包店\n",
    "sandiwch_orders = ['baozi','mainbao','xiaomai']\n",
    "nihao = []\n",
    "while sandiwch_orders:\n",
    "    wo = sandiwch_orders.pop()\n",
    "    nihao.append(wo)\n",
    "print(\"所有的都做好了：\")\n",
    "for ni in nihao:\n",
    "    print(ni)\n",
    "    "
   ]
  },
  {
   "cell_type": "code",
   "execution_count": 25,
   "metadata": {},
   "outputs": [
    {
     "name": "stdout",
     "output_type": "stream",
     "text": [
      "所有的pastrami 都已经卖完了！\n",
      "['baozi', 'mainbao', 'xiaomai']\n"
     ]
    }
   ],
   "source": [
    "# 移除列表中，特定的值 \n",
    "print(\"所有的pastrami 都已经卖完了！\")\n",
    "sandiwch_orders = ['baozi','pastrami','mainbao','pastrami','xiaomai','pastrami']\n",
    "# 现在就是一出pastrami的代码\n",
    "while 'pastrami' in sandiwch_orders:\n",
    "    sandiwch_orders.remove('pastrami')\n",
    "print(sandiwch_orders)"
   ]
  },
  {
   "cell_type": "code",
   "execution_count": null,
   "metadata": {},
   "outputs": [],
   "source": []
  }
 ],
 "metadata": {
  "kernelspec": {
   "display_name": "Python 3",
   "language": "python",
   "name": "python3"
  },
  "language_info": {
   "codemirror_mode": {
    "name": "ipython",
    "version": 3
   },
   "file_extension": ".py",
   "mimetype": "text/x-python",
   "name": "python",
   "nbconvert_exporter": "python",
   "pygments_lexer": "ipython3",
   "version": "3.7.1"
  }
 },
 "nbformat": 4,
 "nbformat_minor": 2
}
