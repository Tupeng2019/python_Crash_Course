{
 "cells": [
  {
   "cell_type": "code",
   "execution_count": 1,
   "metadata": {},
   "outputs": [
    {
     "name": "stdout",
     "output_type": "stream",
     "text": [
      "['trek', 'cannondale', 'redine', 'specialized']\n"
     ]
    }
   ],
   "source": [
    "# 列表小样\n",
    "bicycles = ['trek','cannondale','redine','specialized']\n",
    "print(bicycles)"
   ]
  },
  {
   "cell_type": "code",
   "execution_count": 3,
   "metadata": {},
   "outputs": [
    {
     "name": "stdout",
     "output_type": "stream",
     "text": [
      "trek\n"
     ]
    }
   ],
   "source": [
    "# 如何访问列表元素\n",
    "# 当你请求列表元素时，python值返回该元素，而不包括方括号和引号\n",
    "print(bicycles[0])"
   ]
  },
  {
   "cell_type": "code",
   "execution_count": 4,
   "metadata": {},
   "outputs": [
    {
     "name": "stdout",
     "output_type": "stream",
     "text": [
      "Trek\n"
     ]
    }
   ],
   "source": [
    "print(bicycles[0].title())"
   ]
  },
  {
   "cell_type": "code",
   "execution_count": 11,
   "metadata": {},
   "outputs": [
    {
     "name": "stdout",
     "output_type": "stream",
     "text": [
      "nishao\n"
     ]
    }
   ],
   "source": [
    "# 当访问最后一个元素时，python提供了一种特有的访问方式\n",
    "print(bicycles[-1])"
   ]
  },
  {
   "cell_type": "code",
   "execution_count": 14,
   "metadata": {},
   "outputs": [
    {
     "name": "stdout",
     "output_type": "stream",
     "text": [
      "['hafi', 'jaflsd', 'wonidie', 'nishao']\n"
     ]
    }
   ],
   "source": [
    "'''\n",
    "下面就是将\n",
    "  - 修改、添加、删除元素的使用方法、\n",
    "  \n",
    "'''\n",
    "# 修改元素时非常简单的，直接选择出来从新赋值，就好了\n",
    "\n",
    "# 添加元素的方法时有许多的种类\n",
    "# 1. 在末尾添加新的元素\n",
    "bi = ['hafi','jaflsd','wonidie']\n",
    "bi.append('nishao')\n",
    "print(bi)"
   ]
  },
  {
   "cell_type": "code",
   "execution_count": 15,
   "metadata": {},
   "outputs": [
    {
     "name": "stdout",
     "output_type": "stream",
     "text": [
      "['jintian', 'hafi', 'jaflsd', 'wonidie', 'nishao']\n"
     ]
    }
   ],
   "source": [
    "# insert() 表示的就是在任意的位置添加新的元素，前面的额数字就是表示添加的位置的下标\n",
    "bi.insert(0,'jintian')\n",
    "print(bi)"
   ]
  },
  {
   "cell_type": "code",
   "execution_count": 16,
   "metadata": {},
   "outputs": [
    {
     "name": "stdout",
     "output_type": "stream",
     "text": [
      "['hafi', 'jaflsd', 'wonidie', 'nishao']\n"
     ]
    }
   ],
   "source": [
    "# 删除元素的方法\n",
    "# 1、直接使用del来删除元素\n",
    "# 条件就是要知道它的索引值\n",
    "del bi[0]\n",
    "print(bi)"
   ]
  },
  {
   "cell_type": "code",
   "execution_count": 17,
   "metadata": {},
   "outputs": [
    {
     "name": "stdout",
     "output_type": "stream",
     "text": [
      "['hafi', 'jaflsd', 'wonidie', 'nishao']\n",
      "['hafi', 'jaflsd', 'wonidie']\n",
      "nishao\n"
     ]
    }
   ],
   "source": [
    "# 第二种 方法就是使用pop,\n",
    "# 这种，删除后，可以直接使用该被删除的值\n",
    "print(bi)\n",
    "# 直接就是pop（），就是表示删除的是最后一个元素\n",
    "poped_bi = bi.pop()\n",
    "print(bi)\n",
    "print(poped_bi)\n"
   ]
  },
  {
   "cell_type": "code",
   "execution_count": 18,
   "metadata": {},
   "outputs": [
    {
     "name": "stdout",
     "output_type": "stream",
     "text": [
      "['hafi', 'jaflsd', 'wonidie']\n",
      "['jaflsd', 'wonidie']\n",
      "hafi\n"
     ]
    }
   ],
   "source": [
    "print(bi)\n",
    "# 这既是表示删除相应位置上的元素\n",
    "poped_bi = bi.pop(0)\n",
    "print(bi)\n",
    "print(poped_bi)"
   ]
  },
  {
   "cell_type": "code",
   "execution_count": 21,
   "metadata": {},
   "outputs": [
    {
     "name": "stdout",
     "output_type": "stream",
     "text": [
      "['wonidie']\n"
     ]
    },
    {
     "ename": "ValueError",
     "evalue": "list.remove(x): x not in list",
     "output_type": "error",
     "traceback": [
      "\u001b[1;31m---------------------------------------------------------------------------\u001b[0m",
      "\u001b[1;31mValueError\u001b[0m                                Traceback (most recent call last)",
      "\u001b[1;32m<ipython-input-21-3113a397e0cc>\u001b[0m in \u001b[0;36m<module>\u001b[1;34m\u001b[0m\n\u001b[0;32m      2\u001b[0m \u001b[1;31m# remove()\u001b[0m\u001b[1;33m\u001b[0m\u001b[1;33m\u001b[0m\u001b[1;33m\u001b[0m\u001b[0m\n\u001b[0;32m      3\u001b[0m \u001b[0mprint\u001b[0m\u001b[1;33m(\u001b[0m\u001b[0mbi\u001b[0m\u001b[1;33m)\u001b[0m\u001b[1;33m\u001b[0m\u001b[1;33m\u001b[0m\u001b[0m\n\u001b[1;32m----> 4\u001b[1;33m \u001b[0mbi\u001b[0m\u001b[1;33m.\u001b[0m\u001b[0mremove\u001b[0m\u001b[1;33m(\u001b[0m\u001b[1;34m'jaflsd'\u001b[0m\u001b[1;33m)\u001b[0m\u001b[1;33m\u001b[0m\u001b[1;33m\u001b[0m\u001b[0m\n\u001b[0m\u001b[0;32m      5\u001b[0m \u001b[0mprint\u001b[0m\u001b[1;33m(\u001b[0m\u001b[0mbi\u001b[0m\u001b[1;33m)\u001b[0m\u001b[1;33m\u001b[0m\u001b[1;33m\u001b[0m\u001b[0m\n",
      "\u001b[1;31mValueError\u001b[0m: list.remove(x): x not in list"
     ]
    }
   ],
   "source": [
    "# 第三中，就是，根据值来删除元素\n",
    "# remove()\n",
    "# 利用这种方法删除的元素，也是可以直接调用的\n",
    "print(bi)\n",
    "bi.remove('jaflsd')\n",
    "print(bi)"
   ]
  },
  {
   "cell_type": "code",
   "execution_count": 22,
   "metadata": {},
   "outputs": [
    {
     "name": "stdout",
     "output_type": "stream",
     "text": [
      "['audi', 'bw', 'subaru', 'toyota']\n"
     ]
    }
   ],
   "source": [
    "'''\n",
    "组织列表\n",
    "1. 使用sort()对列表进行永久的排序\n",
    "\n",
    "'''\n",
    "# 1. sort（）方法\n",
    "cars = ['bw', 'audi','toyota', 'subaru']\n",
    "# 这就是按字母表的顺序给排列的\n",
    "cars.sort()\n",
    "print(cars)"
   ]
  },
  {
   "cell_type": "code",
   "execution_count": 24,
   "metadata": {},
   "outputs": [
    {
     "name": "stdout",
     "output_type": "stream",
     "text": [
      "['toyota', 'subaru', 'bw', 'audi']\n"
     ]
    }
   ],
   "source": [
    "# 还可以按字母表相反的顺序排列\n",
    "cars.sort(reverse = True)\n",
    "print(cars)"
   ]
  },
  {
   "cell_type": "code",
   "execution_count": 28,
   "metadata": {},
   "outputs": [
    {
     "name": "stdout",
     "output_type": "stream",
     "text": [
      "['bw', 'audi', 'toyota', 'subaru']\n",
      "['audi', 'bw', 'subaru', 'toyota']\n",
      "['bw', 'audi', 'toyota', 'subaru']\n"
     ]
    },
    {
     "data": {
      "text/plain": [
       "'\\n这种写法是不对的，只能这样用，sort()\\ncars.sorted()\\nprint(cars)\\n\\n'"
      ]
     },
     "execution_count": 28,
     "metadata": {},
     "output_type": "execute_result"
    }
   ],
   "source": [
    "# 使用sorted（）可以进行临时的排序\n",
    "cars = ['bw', 'audi','toyota', 'subaru']\n",
    "print(cars)\n",
    "print(sorted(cars))\n",
    "print(cars)\n",
    "\n",
    "'''\n",
    "这种写法是不对的，只能这样用，sort()\n",
    "cars.sorted()\n",
    "print(cars)\n",
    "\n",
    "'''"
   ]
  },
  {
   "cell_type": "code",
   "execution_count": 29,
   "metadata": {},
   "outputs": [
    {
     "name": "stdout",
     "output_type": "stream",
     "text": [
      "['subaru', 'toyota', 'audi', 'bw']\n"
     ]
    }
   ],
   "source": [
    "# 倒着打印\n",
    "cars.reverse()\n",
    "print(cars)"
   ]
  },
  {
   "cell_type": "code",
   "execution_count": null,
   "metadata": {},
   "outputs": [],
   "source": []
  }
 ],
 "metadata": {
  "kernelspec": {
   "display_name": "Python 3",
   "language": "python",
   "name": "python3"
  },
  "language_info": {
   "codemirror_mode": {
    "name": "ipython",
    "version": 3
   },
   "file_extension": ".py",
   "mimetype": "text/x-python",
   "name": "python",
   "nbconvert_exporter": "python",
   "pygments_lexer": "ipython3",
   "version": "3.7.1"
  }
 },
 "nbformat": 4,
 "nbformat_minor": 2
}
