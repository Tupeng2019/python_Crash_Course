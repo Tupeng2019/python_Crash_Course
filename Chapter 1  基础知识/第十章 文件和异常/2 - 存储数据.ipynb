{
 "cells": [
  {
   "cell_type": "code",
   "execution_count": 1,
   "metadata": {},
   "outputs": [],
   "source": [
    "'''\n",
    "现在的所有的操作就是将\n",
    "将数据写入文件中，同时又将数据从文件中读取出来，放在内存中，并打印出来\n",
    "'''\n",
    "# 使用json.dump 和json.load 对数据的处理\n",
    "import json\n",
    "numbers = [2,3,4,5,6]\n",
    "filename = 'numbers.json'\n",
    "with open(filename,'w') as f_obj:\n",
    "    # 使用json.dump是将数据存储在文件当中的\n",
    "    json.dump(numbers,f_obj)"
   ]
  },
  {
   "cell_type": "code",
   "execution_count": 2,
   "metadata": {},
   "outputs": [
    {
     "name": "stdout",
     "output_type": "stream",
     "text": [
      "[2, 3, 4, 5, 6]\n"
     ]
    }
   ],
   "source": [
    "# 使用json.load 是将这个列表读取到内存当中\n",
    "import json\n",
    "filename = 'numbers.json'\n",
    "with open(filename) as f_obj:\n",
    "    numbers = json.load(f_obj)\n",
    "    \n",
    "print(numbers)"
   ]
  },
  {
   "cell_type": "code",
   "execution_count": 3,
   "metadata": {},
   "outputs": [
    {
     "name": "stdout",
     "output_type": "stream",
     "text": [
      "What is your name:\n",
      "hiaho\n",
      "we'll remember you when you come backhiaho!\n"
     ]
    }
   ],
   "source": [
    "import json\n",
    "username = input(\"What is your name:\\n\")\n",
    "filename = 'username.json'\n",
    "with open(filename,'w') as user_f:\n",
    "    json.dump(username,user_f)\n",
    "    print(\"we'll remember you when you come back{0}!\".format(username))\n",
    "    "
   ]
  },
  {
   "cell_type": "code",
   "execution_count": 7,
   "metadata": {},
   "outputs": [
    {
     "name": "stdout",
     "output_type": "stream",
     "text": [
      "welcome back: hiaho\n"
     ]
    }
   ],
   "source": [
    "import json\n",
    "filename = 'username.json'\n",
    "\n",
    "with open(filename) as user_ff:\n",
    "    username = json.load(user_ff)\n",
    "    print(\"welcome back: \" +username)"
   ]
  },
  {
   "cell_type": "code",
   "execution_count": 8,
   "metadata": {},
   "outputs": [
    {
     "name": "stdout",
     "output_type": "stream",
     "text": [
      "Welcome backhiaho\n"
     ]
    }
   ],
   "source": [
    "import json\n",
    "# 如果以前存储了用户名，就加载它\n",
    "# 否者，就提示用户，输入用户名字并存储它\n",
    "filename = 'username.json'\n",
    "try:\n",
    "    with open(filename) as user_ff:\n",
    "        username = json.load(user_ff)\n",
    "except FilenameNotFoundError:\n",
    "    username = input(\"What is your name:\")\n",
    "    with open(username,'w') as user_ff:\n",
    "        json.dump(username,user_ff)\n",
    "        print(\"we'll remenber your name when you come back!\" + username)\n",
    "else:\n",
    "    print(\"Welcome back\" + username)"
   ]
  },
  {
   "cell_type": "code",
   "execution_count": null,
   "metadata": {},
   "outputs": [],
   "source": []
  }
 ],
 "metadata": {
  "kernelspec": {
   "display_name": "Python 3",
   "language": "python",
   "name": "python3"
  },
  "language_info": {
   "codemirror_mode": {
    "name": "ipython",
    "version": 3
   },
   "file_extension": ".py",
   "mimetype": "text/x-python",
   "name": "python",
   "nbconvert_exporter": "python",
   "pygments_lexer": "ipython3",
   "version": "3.7.1"
  }
 },
 "nbformat": 4,
 "nbformat_minor": 2
}
