{
 "cells": [
  {
   "cell_type": "code",
   "execution_count": 6,
   "metadata": {},
   "outputs": [
    {
     "name": "stdout",
     "output_type": "stream",
     "text": [
      "12.4164616464\n",
      "   5161612336\n",
      "   5646163131\n",
      "   \n"
     ]
    }
   ],
   "source": [
    "with open('pi_digits.txt') as file_object:\n",
    "    contents = file_object.read()\n",
    "    print(contents)"
   ]
  },
  {
   "cell_type": "code",
   "execution_count": 7,
   "metadata": {},
   "outputs": [
    {
     "name": "stdout",
     "output_type": "stream",
     "text": [
      "12.4164616464\n",
      "   5161612336\n",
      "   5646163131\n"
     ]
    }
   ],
   "source": [
    "with open('pi_digits.txt') as file_object:\n",
    "    contents = file_object.read()\n",
    "    # rstrip方法就是删除字符串后面的空行\n",
    "    print(contents.rstrip())"
   ]
  },
  {
   "cell_type": "code",
   "execution_count": 14,
   "metadata": {},
   "outputs": [
    {
     "name": "stdout",
     "output_type": "stream",
     "text": [
      "12.4164616464\n",
      "   5161612336\n",
      "   5646163131\n",
      "\n"
     ]
    }
   ],
   "source": [
    "# 逐行读取\n",
    "filename = 'pi_digits.txt'\n",
    "with open(filename) as file_object:\n",
    "    for line in file_object:\n",
    "        print(line.rstrip())"
   ]
  },
  {
   "cell_type": "code",
   "execution_count": 16,
   "metadata": {},
   "outputs": [
    {
     "name": "stdout",
     "output_type": "stream",
     "text": [
      "['12.4164616464\\n', '   5161612336\\n', '   5646163131\\n', '   ']\n",
      "12.4164616464\n",
      "   5161612336\n",
      "   5646163131\n",
      "\n"
     ]
    }
   ],
   "source": [
    "# 逐行读取\n",
    "# 创建一个包含文件各行的内容的列表\n",
    "filename = 'pi_digits.txt'\n",
    "with open(filename) as file_object:\n",
    "    lines = file_object.readlines()\n",
    "print(lines)\n",
    "for line in lines:\n",
    "    print(line.rstrip())"
   ]
  },
  {
   "cell_type": "code",
   "execution_count": 18,
   "metadata": {},
   "outputs": [
    {
     "name": "stdout",
     "output_type": "stream",
     "text": [
      "['12.4164616464\\n', '   5161612336\\n', '   5646163131\\n', '   ']\n",
      "12.4164616464   5161612336   5646163131\n",
      "39\n"
     ]
    }
   ],
   "source": [
    "# 使用文件的内容、\n",
    "filename = 'pi_digits.txt'\n",
    "with open(filename) as file_object:\n",
    "    lines = file_object.readlines()\n",
    "    \n",
    "print(lines)\n",
    "pi_string = ''\n",
    "for line in lines:\n",
    "    # rstrip是删除换行符\n",
    "    pi_string += line.rstrip()\n",
    "\n",
    "print(pi_string)\n",
    "print(len(pi_string))"
   ]
  },
  {
   "cell_type": "code",
   "execution_count": 19,
   "metadata": {},
   "outputs": [
    {
     "name": "stdout",
     "output_type": "stream",
     "text": [
      "['12.4164616464\\n', '   5161612336\\n', '   5646163131\\n', '   ']\n",
      "12.416461646451616123365646163131\n",
      "33\n"
     ]
    }
   ],
   "source": [
    "# 使用文件的内容、\n",
    "filename = 'pi_digits.txt'\n",
    "with open(filename) as file_object:\n",
    "    lines = file_object.readlines()\n",
    "    \n",
    "print(lines)\n",
    "pi_string = ''\n",
    "for line in lines:\n",
    "    # strip是删除每一行左边的空格\n",
    "    pi_string += line.strip()\n",
    "\n",
    "print(pi_string)\n",
    "print(len(pi_string))"
   ]
  },
  {
   "cell_type": "code",
   "execution_count": 21,
   "metadata": {},
   "outputs": [
    {
     "name": "stdout",
     "output_type": "stream",
     "text": [
      "Enter your birthdate, in the mmddyy:120372\n",
      "Your birthdate appear in the first millon of pi!\n"
     ]
    }
   ],
   "source": [
    "# 使用文件的内容、\n",
    "filename = 'pi_million_digits.txt'\n",
    "with open(filename) as file_object:\n",
    "    lines = file_object.readlines()\n",
    "    \n",
    "# print(lines)\n",
    "pi_string = ''\n",
    "for line in lines:\n",
    "    # strip是删除每一行左边的空格\n",
    "    pi_string += line.strip()\n",
    "\n",
    "birthdate = input(\"Enter your birthdate, in the mmddyy:\")\n",
    "if birthdate in pi_string:\n",
    "    print(\"Your birthdate appear in the first millon of pi!\")\n",
    "else:\n",
    "    print(\"Your birthdate dose not appear in the first millon of pi!\")"
   ]
  },
  {
   "cell_type": "code",
   "execution_count": 22,
   "metadata": {},
   "outputs": [
    {
     "name": "stdout",
     "output_type": "stream",
     "text": [
      "in python you can do something that you want to do!!\n",
      "in python you can learn more intresting things!!\n",
      "in python you can go everywhere that you can!!\n"
     ]
    }
   ],
   "source": [
    "# 10-1 \n",
    "# 这就是，读取整个文件\n",
    "filename = 'learning_python.txt'\n",
    "with open(filename) as file_object:\n",
    "    lines = file_object.read()\n",
    "print(lines)"
   ]
  },
  {
   "cell_type": "code",
   "execution_count": 24,
   "metadata": {},
   "outputs": [
    {
     "name": "stdout",
     "output_type": "stream",
     "text": [
      "in python you can do something that you want to do!!\n",
      "in python you can learn more intresting things!!\n",
      "in python you can go everywhere that you can!!\n"
     ]
    }
   ],
   "source": [
    "# 将其存在一个列表中，然后一个一个的遍历\n",
    "filename = 'learning_python.txt'\n",
    "with open(filename) as file_object:\n",
    "    lines = file_object.readlines()\n",
    "    \n",
    "for line in lines:\n",
    "    print(line.rstrip())"
   ]
  },
  {
   "cell_type": "code",
   "execution_count": 27,
   "metadata": {},
   "outputs": [
    {
     "name": "stdout",
     "output_type": "stream",
     "text": [
      "in python you can do something that you want to do!!\n",
      "in python you can learn more intresting things!!\n",
      "in python you can go everywhere that you can!!\n"
     ]
    }
   ],
   "source": [
    "# 这就是一行一行的读取，不用先建立以个什么文件\n",
    "filename = 'learning_python.txt'\n",
    "with open(filename) as file_object:\n",
    "    for line in file_object:\n",
    "        print(line.rstrip())\n",
    "    "
   ]
  },
  {
   "cell_type": "code",
   "execution_count": 29,
   "metadata": {},
   "outputs": [
    {
     "name": "stdout",
     "output_type": "stream",
     "text": [
      "in c++ you can do something that you want to do!!\n",
      "in c++ you can learn more intresting things!!\n",
      "in c++ you can go everywhere that you can!!\n"
     ]
    }
   ],
   "source": [
    "'''\n",
    "10-2 c++ 的笔记\n",
    "使用方法 replace() 将字符串中的特定单词都替换成另外一个单词\n",
    "'''\n",
    "# 将其存在一个列表中，然后一个一个的遍历\n",
    "filename = 'learning_python.txt'\n",
    "with open(filename) as file_object:\n",
    "    lines = file_object.readlines()\n",
    "    \n",
    "for line in lines:\n",
    "    reline = line.replace('python','c++')\n",
    "    print(reline.rstrip())"
   ]
  },
  {
   "cell_type": "code",
   "execution_count": 34,
   "metadata": {},
   "outputs": [],
   "source": [
    "'''\n",
    "写入文件：\n",
    "1. 写入空文件\n",
    "\n",
    "'''\n",
    "fliename = 'programming.txt'\n",
    "with open(filename,'w') as file_object:\n",
    "    file_object.write(\"I love tupeng.\")\n",
    "    "
   ]
  },
  {
   "cell_type": "code",
   "execution_count": 36,
   "metadata": {},
   "outputs": [
    {
     "name": "stdout",
     "output_type": "stream",
     "text": [
      "please imput your name:\n",
      "nihao\n"
     ]
    }
   ],
   "source": [
    "# 10-3 访客\n",
    "load = input(\"please imput your name:\\n\")\n",
    "fliename = 'programming.txt'\n",
    "with open(filename,'w') as file_object:\n",
    "    file_object.write(load)"
   ]
  },
  {
   "cell_type": "code",
   "execution_count": 39,
   "metadata": {},
   "outputs": [
    {
     "name": "stdout",
     "output_type": "stream",
     "text": [
      "Give me two numbers,and I'll divide them:\n",
      "Enter 'q' to quit.\n",
      "\n",
      "First number:5\n",
      "\n",
      "Second_number:0\n"
     ]
    },
    {
     "ename": "ZeroDivisionError",
     "evalue": "division by zero",
     "output_type": "error",
     "traceback": [
      "\u001b[1;31m---------------------------------------------------------------------------\u001b[0m",
      "\u001b[1;31mZeroDivisionError\u001b[0m                         Traceback (most recent call last)",
      "\u001b[1;32m<ipython-input-39-588f425092df>\u001b[0m in \u001b[0;36m<module>\u001b[1;34m\u001b[0m\n\u001b[0;32m     10\u001b[0m     \u001b[1;32mif\u001b[0m \u001b[0msecond_number\u001b[0m \u001b[1;33m==\u001b[0m \u001b[1;34m'q'\u001b[0m\u001b[1;33m:\u001b[0m\u001b[1;33m\u001b[0m\u001b[1;33m\u001b[0m\u001b[0m\n\u001b[0;32m     11\u001b[0m         \u001b[1;32mbreak\u001b[0m\u001b[1;33m\u001b[0m\u001b[1;33m\u001b[0m\u001b[0m\n\u001b[1;32m---> 12\u001b[1;33m     \u001b[0manswer\u001b[0m \u001b[1;33m=\u001b[0m \u001b[0mint\u001b[0m\u001b[1;33m(\u001b[0m\u001b[0mfirst_number\u001b[0m\u001b[1;33m)\u001b[0m \u001b[1;33m/\u001b[0m \u001b[0mint\u001b[0m\u001b[1;33m(\u001b[0m\u001b[0msecond_number\u001b[0m\u001b[1;33m)\u001b[0m\u001b[1;33m\u001b[0m\u001b[1;33m\u001b[0m\u001b[0m\n\u001b[0m\u001b[0;32m     13\u001b[0m     \u001b[0mprint\u001b[0m\u001b[1;33m(\u001b[0m\u001b[0manswer\u001b[0m\u001b[1;33m)\u001b[0m\u001b[1;33m\u001b[0m\u001b[1;33m\u001b[0m\u001b[0m\n",
      "\u001b[1;31mZeroDivisionError\u001b[0m: division by zero"
     ]
    }
   ],
   "source": [
    "# 使用异常避免崩溃\n",
    "print(\"Give me two numbers,and I'll divide them:\")\n",
    "print(\"Enter 'q' to quit.\")\n",
    "\n",
    "while True:\n",
    "    first_number = input(\"\\nFirst number:\")\n",
    "    if first_number == 'q':\n",
    "        break\n",
    "    second_number = input(\"\\nSecond_number:\")\n",
    "    if second_number == 'q':\n",
    "        break\n",
    "    answer = int(first_number) / int(second_number)\n",
    "    print(answer)\n"
   ]
  },
  {
   "cell_type": "code",
   "execution_count": 41,
   "metadata": {},
   "outputs": [
    {
     "name": "stdout",
     "output_type": "stream",
     "text": [
      "Give me two numbers,and I'll divide them:\n",
      "Enter 'q' to quit.\n",
      "\n",
      "First number:q\n",
      "退出程序！\n"
     ]
    }
   ],
   "source": [
    "# 使用异常避免崩溃\n",
    "# 同时使用try-except\n",
    "# 这就处理ZeroDivisionError错误的使用\n",
    "print(\"Give me two numbers,and I'll divide them:\")\n",
    "print(\"Enter 'q' to quit.\")\n",
    "\n",
    "while True:\n",
    "    first_number = input(\"\\nFirst number:\")\n",
    "    if first_number == 'q':\n",
    "        print(\"退出程序！\")\n",
    "        break\n",
    "    second_number = input(\"\\nSecond_number:\")\n",
    "    if second_number == 'q':\n",
    "        print(\"退出程序！\")\n",
    "        break\n",
    "    try:\n",
    "        answer = int(first_number) / int(second_number)\n",
    "    except ZeroDivisionError:\n",
    "        print(\"You can't dicide by 0!\")\n",
    "    else:\n",
    "        print(answer)\n"
   ]
  },
  {
   "cell_type": "code",
   "execution_count": 42,
   "metadata": {},
   "outputs": [
    {
     "ename": "FileNotFoundError",
     "evalue": "[Errno 2] No such file or directory: 'alice.txt'",
     "output_type": "error",
     "traceback": [
      "\u001b[1;31m---------------------------------------------------------------------------\u001b[0m",
      "\u001b[1;31mFileNotFoundError\u001b[0m                         Traceback (most recent call last)",
      "\u001b[1;32m<ipython-input-42-5181bbb0bb14>\u001b[0m in \u001b[0;36m<module>\u001b[1;34m\u001b[0m\n\u001b[0;32m      1\u001b[0m \u001b[1;31m#处理FileNotFoundError异常\u001b[0m\u001b[1;33m\u001b[0m\u001b[1;33m\u001b[0m\u001b[1;33m\u001b[0m\u001b[0m\n\u001b[0;32m      2\u001b[0m \u001b[0mfilename\u001b[0m \u001b[1;33m=\u001b[0m \u001b[1;34m'alice.txt'\u001b[0m\u001b[1;33m\u001b[0m\u001b[1;33m\u001b[0m\u001b[0m\n\u001b[1;32m----> 3\u001b[1;33m \u001b[1;32mwith\u001b[0m \u001b[0mopen\u001b[0m\u001b[1;33m(\u001b[0m\u001b[0mfilename\u001b[0m\u001b[1;33m)\u001b[0m \u001b[1;32mas\u001b[0m \u001b[0mf_obj\u001b[0m\u001b[1;33m:\u001b[0m\u001b[1;33m\u001b[0m\u001b[1;33m\u001b[0m\u001b[0m\n\u001b[0m\u001b[0;32m      4\u001b[0m     \u001b[0mcontents\u001b[0m \u001b[1;33m=\u001b[0m \u001b[0mf_obj\u001b[0m\u001b[1;33m.\u001b[0m\u001b[0mread\u001b[0m\u001b[1;33m(\u001b[0m\u001b[1;33m)\u001b[0m\u001b[1;33m\u001b[0m\u001b[1;33m\u001b[0m\u001b[0m\n",
      "\u001b[1;31mFileNotFoundError\u001b[0m: [Errno 2] No such file or directory: 'alice.txt'"
     ]
    }
   ],
   "source": [
    "#处理FileNotFoundError异常\n",
    "filename = 'alice.txt'\n",
    "with open(filename) as f_obj:\n",
    "    contents = f_obj.read()"
   ]
  },
  {
   "cell_type": "code",
   "execution_count": 43,
   "metadata": {},
   "outputs": [
    {
     "name": "stdout",
     "output_type": "stream",
     "text": [
      "Sorry, the filealice.txtdose not exost!\n"
     ]
    }
   ],
   "source": [
    "#处理FileNotFoundError异常\n",
    "filename = 'alice.txt'\n",
    "try:\n",
    "    with open(filename) as f_obj:\n",
    "        contents = f_obj.read()\n",
    "except FileNotFoundError:\n",
    "    msg = \"Sorry, the file\" + filename + \"dose not exost!\"\n",
    "    print(msg)"
   ]
  },
  {
   "cell_type": "code",
   "execution_count": 44,
   "metadata": {},
   "outputs": [
    {
     "name": "stdout",
     "output_type": "stream",
     "text": [
      "The filealice.txt has about 29461 words。\n"
     ]
    }
   ],
   "source": [
    "'''\n",
    "分析文本\n",
    "\n",
    "'''\n",
    "filename = 'alice.txt'\n",
    "try:\n",
    "    with open(filename) as f_obj:\n",
    "        contents = f_obj.read()\n",
    "except FileNotFoundError:\n",
    "    msg = \"Sorry, the file\" + filename + \"dose not exost!\"\n",
    "    print(msg)\n",
    "else:\n",
    "    # 计算文件中大致有多少个单词\n",
    "    '''\n",
    "    方法split就是以空格为分隔符将字符串拆成多个部分，同时将这些部分存储在一个列表当中，\n",
    "    当然标点也是其中的一部分\n",
    "    '''\n",
    "    words = contents.split()\n",
    "    num_words = len(words) \n",
    "    print(\"The file{0} has about {1} words。\".format(filename,str(num_words)))"
   ]
  },
  {
   "cell_type": "code",
   "execution_count": 45,
   "metadata": {},
   "outputs": [
    {
     "name": "stdout",
     "output_type": "stream",
     "text": [
      "The filealice.txt has about 29461 words。\n"
     ]
    }
   ],
   "source": [
    "'''\n",
    "接下来就是使用函数来实现这些功能\n",
    "\n",
    "'''\n",
    "def count_words(filename):\n",
    "    \"\"\"计算一个文件大致包含多少个单词\"\"\"\n",
    "    try:\n",
    "        with open(filename) as f_obj:\n",
    "            contents = f_obj.read()\n",
    "    except FileNotFoundError:\n",
    "        msg = \"Sorry, the file\" + filename + \"dose not exost!\"\n",
    "        print(msg)\n",
    "    else:\n",
    "        # 计算文件中大致有多少个单词\n",
    "        '''\n",
    "        方法split就是以空格为分隔符将字符串拆成多个部分，同时将这些部分存储在一个列表当中，\n",
    "        当然标点也是其中的一部分\n",
    "        '''\n",
    "        words = contents.split()\n",
    "        num_words = len(words)\n",
    "        print(\"The file{0} has about {1} words。\".format(filename,str(num_words)))\n",
    "# 下面就是调用函数\n",
    "filename = 'alice.txt'\n",
    "count_words(filename)"
   ]
  },
  {
   "cell_type": "code",
   "execution_count": 48,
   "metadata": {},
   "outputs": [
    {
     "name": "stdout",
     "output_type": "stream",
     "text": [
      "The filealice.txt has about 29461 words。\n",
      "The filesiddhartha.txt has about 42172 words。\n",
      "The filemoby_dict.txt has about 215136 words。\n",
      "The filelittle_women.txt has about 189079 words。\n"
     ]
    }
   ],
   "source": [
    "'''\n",
    "接下来就是使用函数来实现这些功能\n",
    "同时实现多本书的读取\n",
    "'''\n",
    "def count_words(filename):\n",
    "    \"\"\"计算一个文件大致包含多少个单词\"\"\"\n",
    "    try:\n",
    "        with open(filename) as f_obj:\n",
    "            contents = f_obj.read()\n",
    "    except FileNotFoundError:\n",
    "        msg = \"Sorry, the file\" + filename + \"dose not exost!\"\n",
    "        print(msg)\n",
    "    else:\n",
    "        # 计算文件中大致有多少个单词\n",
    "        '''\n",
    "        方法split就是以空格为分隔符将字符串拆成多个部分，同时将这些部分存储在一个列表当中，\n",
    "        当然标点也是其中的一部分\n",
    "        '''\n",
    "        words = contents.split()\n",
    "        num_words = len(words)\n",
    "        print(\"The file{0} has about {1} words。\".format(filename,str(num_words)))\n",
    "# 下面就是调用函数\n",
    "filename = ['alice.txt','siddhartha.txt','moby_dict.txt','little_women.txt']\n",
    "for words in filename:\n",
    "    count_words(words)"
   ]
  },
  {
   "cell_type": "code",
   "execution_count": 57,
   "metadata": {},
   "outputs": [
    {
     "name": "stdout",
     "output_type": "stream",
     "text": [
      "plese input frist number:\n",
      "12\n",
      "please input scond number:\n",
      "攻击力\n",
      "请正确输入两个数字，而不是文本！！\n"
     ]
    }
   ],
   "source": [
    "'''\n",
    " 10- 6加法运算：\n",
    "'''\n",
    "try:\n",
    "    frist_nb = input(\"plese input frist number:\\n\")\n",
    "    f_N = int(frist_nb)\n",
    "    second_nb = input(\"please input scond number:\\n\")\n",
    "    s_N = int(second_nb)\n",
    "    sum_fs = f_N + s_N\n",
    "except ValueError:\n",
    "    print(\"请正确输入两个数字，而不是文本！！\")\n",
    "else:\n",
    "    print(\"输入的这两个数字的和是：\")\n",
    "    print(sum_fs)"
   ]
  },
  {
   "cell_type": "code",
   "execution_count": null,
   "metadata": {},
   "outputs": [],
   "source": [
    "'''\n",
    " 10- 6加法运算：\n",
    "'''\n",
    "tu = Ture\n",
    "while tu:\n",
    "    try:\n",
    "        frist_nb = input(\"plese input frist number:\\n\")\n",
    "        f_N = int(frist_nb)\n",
    "        second_nb = input(\"please input scond number:\\n\")\n",
    "        s_N = int(second_nb)\n",
    "        sum_fs = f_N + s_N\n",
    "    except ValueError:\n",
    "        #print(\"请正确输入两个数字，而不是文本！！\")\n",
    "        pass\n",
    "    else:\n",
    "        print(\"输入的这两个数字的和是：\")\n",
    "        print(sum_fs)\n",
    "        tu = False"
   ]
  },
  {
   "cell_type": "code",
   "execution_count": null,
   "metadata": {},
   "outputs": [],
   "source": []
  }
 ],
 "metadata": {
  "kernelspec": {
   "display_name": "Python 3",
   "language": "python",
   "name": "python3"
  },
  "language_info": {
   "codemirror_mode": {
    "name": "ipython",
    "version": 3
   },
   "file_extension": ".py",
   "mimetype": "text/x-python",
   "name": "python",
   "nbconvert_exporter": "python",
   "pygments_lexer": "ipython3",
   "version": "3.7.1"
  }
 },
 "nbformat": 4,
 "nbformat_minor": 2
}
