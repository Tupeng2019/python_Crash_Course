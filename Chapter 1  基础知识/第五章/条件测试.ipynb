{
 "cells": [
  {
   "cell_type": "code",
   "execution_count": 1,
   "metadata": {},
   "outputs": [
    {
     "name": "stdout",
     "output_type": "stream",
     "text": [
      "Audi\n",
      "Bmw\n",
      "Subaru\n",
      "Toyota\n"
     ]
    }
   ],
   "source": [
    "# if 语句\n",
    "cars = ['audi', 'bmw', 'subaru','toyota']\n",
    "for car in cars:\n",
    "    if car == 'bwm':\n",
    "        print(car.upper())\n",
    "    else:\n",
    "        print(car.title())"
   ]
  },
  {
   "cell_type": "code",
   "execution_count": 2,
   "metadata": {},
   "outputs": [
    {
     "data": {
      "text/plain": [
       "'\\n条件测试\\n判断等于用 ==\\n判断不等用 ！=\\n\\n检查多个条件\\n用and 或者 or\\n\\n检查特定值，是否包含在列表当中\\n用 in \\n是否不包含\\n用 not in\\n\\n'"
      ]
     },
     "execution_count": 2,
     "metadata": {},
     "output_type": "execute_result"
    }
   ],
   "source": [
    "'''\n",
    "条件测试\n",
    "判断等于用 ==\n",
    "判断不等用 ！=\n",
    "\n",
    "检查多个条件\n",
    "用and 或者 or\n",
    "\n",
    "检查特定值，是否包含在列表当中\n",
    "用 in \n",
    "是否不包含\n",
    "用 not in\n",
    "\n",
    "'''"
   ]
  },
  {
   "cell_type": "code",
   "execution_count": 3,
   "metadata": {},
   "outputs": [
    {
     "name": "stdout",
     "output_type": "stream",
     "text": [
      "You are old enough to votel\n"
     ]
    }
   ],
   "source": [
    "age = 19\n",
    "if age >= 18:\n",
    "    print('You are old enough to votel')"
   ]
  },
  {
   "cell_type": "code",
   "execution_count": 4,
   "metadata": {},
   "outputs": [
    {
     "name": "stdout",
     "output_type": "stream",
     "text": [
      "adding requested_topping.\n",
      "adding requested_topping.\n",
      "adding requested_topping.\n",
      "\n",
      "Finish making your pazzal!\n"
     ]
    }
   ],
   "source": [
    "'''\n",
    "用if语句和列表同时使用\n",
    "'''\n",
    "requested_toppings = ['mushromm','green','extra sheese']\n",
    "for requested_topping in requested_toppings:\n",
    "    print(\"adding \" + \"requested_topping\" +\".\")\n",
    "print(\"\\nFinish making your pazzal!\")"
   ]
  },
  {
   "cell_type": "code",
   "execution_count": 5,
   "metadata": {},
   "outputs": [
    {
     "name": "stdout",
     "output_type": "stream",
     "text": [
      "adding requested_topping.\n",
      "Sorry, we are out of green right now!\n",
      "adding requested_topping.\n",
      "\n",
      "Finish making your pazzal!\n"
     ]
    }
   ],
   "source": [
    "requested_toppings = ['mushromm','green','extra sheese']\n",
    "for requested_topping in requested_toppings:\n",
    "    if requested_topping == 'green':\n",
    "        print(\"Sorry, we are out of green right now!\")\n",
    "    else:\n",
    "        print(\"adding \" + \"requested_topping\" +\".\")\n",
    "print(\"\\nFinish making your pazzal!\")"
   ]
  },
  {
   "cell_type": "code",
   "execution_count": 6,
   "metadata": {},
   "outputs": [
    {
     "name": "stdout",
     "output_type": "stream",
     "text": [
      "Holle Eric, thank you for logging in again!\n",
      "Holle admin, would you like to see status report?\n",
      "Holle Eric, thank you for logging in again!\n",
      "Holle Eric, thank you for logging in again!\n"
     ]
    }
   ],
   "source": [
    "# 5-8 \n",
    "names = ['tupeng', 'admin','nihao','woshi']\n",
    "for name in names:\n",
    "    if name == 'admin':\n",
    "        print(\"Holle admin, would you like to see status report?\")\n",
    "    else:\n",
    "        print(\"Holle Eric, thank you for logging in again!\")"
   ]
  },
  {
   "cell_type": "code",
   "execution_count": 9,
   "metadata": {},
   "outputs": [
    {
     "name": "stdout",
     "output_type": "stream",
     "text": [
      "please input another name!!\n",
      "please input another name!!\n",
      "this name is not be use!!!\n",
      "this name is not be use!!!\n"
     ]
    }
   ],
   "source": [
    "current_users = ['tupeng', 'admin','nihao','woshi','tiantian']\n",
    "new_users = ['tupeng','tiantian','mingming','liangliang']\n",
    "for new_user in new_users:\n",
    "    if new_user in current_users:\n",
    "        print(\"please input another name!!\")\n",
    "    else:\n",
    "        print(\"this name is not be use!!!\")\n"
   ]
  },
  {
   "cell_type": "code",
   "execution_count": null,
   "metadata": {},
   "outputs": [],
   "source": []
  }
 ],
 "metadata": {
  "kernelspec": {
   "display_name": "Python 3",
   "language": "python",
   "name": "python3"
  },
  "language_info": {
   "codemirror_mode": {
    "name": "ipython",
    "version": 3
   },
   "file_extension": ".py",
   "mimetype": "text/x-python",
   "name": "python",
   "nbconvert_exporter": "python",
   "pygments_lexer": "ipython3",
   "version": "3.7.1"
  }
 },
 "nbformat": 4,
 "nbformat_minor": 2
}
