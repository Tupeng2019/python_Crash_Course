{
 "cells": [
  {
   "cell_type": "code",
   "execution_count": 3,
   "metadata": {},
   "outputs": [
    {
     "name": "stdout",
     "output_type": "stream",
     "text": [
      "My dog's name is Willie.\n",
      "My dog is 6years old.\n"
     ]
    }
   ],
   "source": [
    "'''\n",
    "面向对象的编程\n",
    "类的实现\n",
    "1、 先创建一个简单的类Dog\n",
    "'''\n",
    "\n",
    "class Dog():\n",
    "    '''\n",
    "    一次模拟小狗的简单\n",
    "    '''\n",
    "    def __init__(self, name, age):\n",
    "        '''\n",
    "        初始化属性name，age \n",
    "        '''\n",
    "        self.name =  name\n",
    "        self.age = age\n",
    "    \n",
    "    def sit(self):\n",
    "        \"\"\"\n",
    "        模拟小狗呗命令蹲下是\n",
    "        \"\"\"\n",
    "        print(self.name.title() + \"is now sitting.\")\n",
    "        \n",
    "    def roll_over(self):\n",
    "        \"\"\"\n",
    "        模拟小狗呗命令时打滚\n",
    "        \"\"\"\n",
    "        print(self.name.title() + \"rolled over!\")\n",
    "        \n",
    "# 实现实例化\n",
    "my_dog = Dog('willie', 6)\n",
    "# my_dog.name 就是访问属性\n",
    "print(\"My dog's name is \" + my_dog.name.title() + \".\")\n",
    "print(\"My dog is \" + str(my_dog.age) + \"years old.\")"
   ]
  },
  {
   "cell_type": "code",
   "execution_count": 4,
   "metadata": {},
   "outputs": [
    {
     "name": "stdout",
     "output_type": "stream",
     "text": [
      "Willieis now sitting.\n",
      "Willierolled over!\n"
     ]
    }
   ],
   "source": [
    "my_dog.sit()\n",
    "my_dog.roll_over()"
   ]
  },
  {
   "cell_type": "code",
   "execution_count": 6,
   "metadata": {},
   "outputs": [
    {
     "name": "stdout",
     "output_type": "stream",
     "text": [
      "My dog's name is Lucy.\n",
      "My dog is 8years old.\n"
     ]
    }
   ],
   "source": [
    "# 这就是实现列的实例化，很实际的东西\n",
    "your_dog = Dog('lucy', 8)\n",
    "print(\"My dog's name is \" + your_dog.name.title() + \".\")\n",
    "print(\"My dog is \" + str(your_dog.age) + \"years old.\")"
   ]
  },
  {
   "cell_type": "code",
   "execution_count": 7,
   "metadata": {},
   "outputs": [
    {
     "name": "stdout",
     "output_type": "stream",
     "text": [
      "Lucyis now sitting.\n",
      "Lucyrolled over!\n"
     ]
    }
   ],
   "source": [
    "your_dog.sit()\n",
    "your_dog.roll_over()"
   ]
  },
  {
   "cell_type": "code",
   "execution_count": 13,
   "metadata": {},
   "outputs": [
    {
     "name": "stdout",
     "output_type": "stream",
     "text": [
      "This restaurant's name is :\n",
      "Niaho\n",
      "THis restaurant's type is :\n",
      "Food\n",
      "Niaho is going,now! \n"
     ]
    }
   ],
   "source": [
    "class Restaurant():\n",
    "    '''\n",
    "    设置两个属性，一个是名字一个是类型\n",
    "    '''\n",
    "    def __init__(self,name,c_type):\n",
    "        '''\n",
    "        初始化属性\n",
    "        '''\n",
    "        self.name = name\n",
    "        self.type = c_type\n",
    "    def describe_restaurant(self):\n",
    "        print(\"This restaurant's name is :\\n\" + self.name.title())\n",
    "        print(\"THis restaurant's type is :\\n\" + self.type.title())\n",
    "        \n",
    "    def open_restaurant(self):\n",
    "        print(self.name.title() + \" is going,now! \")\n",
    "tupeng = Restaurant('niaho','food')\n",
    "tupeng.describe_restaurant()\n",
    "tupeng.open_restaurant()"
   ]
  },
  {
   "cell_type": "code",
   "execution_count": 19,
   "metadata": {},
   "outputs": [
    {
     "name": "stdout",
     "output_type": "stream",
     "text": [
      "This restaurant's name is :\n",
      "Niaho\n",
      "THis restaurant's type is :\n",
      "Food\n",
      "Niaho is going,now! \n",
      "nijiushi 一个大傻子\n",
      "这里一共有100正在吃饭！！\n",
      "这时候由来了25 个人吃饭！！\n",
      "这里一共有125正在吃饭！！\n"
     ]
    }
   ],
   "source": [
    "# 9-4 对前面的修改\n",
    "class Restaurant():\n",
    "    '''\n",
    "    设置两个属性，一个是名字一个是类型\n",
    "    '''\n",
    "    def __init__(self,name,c_type):\n",
    "        '''\n",
    "        初始化属性\n",
    "        '''\n",
    "        self.name = name\n",
    "        self.type = c_type\n",
    "        # 添加一个新的属性\n",
    "        self.number_served = 0\n",
    "    def describe_restaurant(self):\n",
    "        print(\"This restaurant's name is :\\n\" + self.name.title())\n",
    "        print(\"THis restaurant's type is :\\n\" + self.type.title())\n",
    "        \n",
    "    def open_restaurant(self):\n",
    "        print(self.name.title() + \" is going,now! \")\n",
    "        \n",
    "    def reading_number(self):\n",
    "        '''\n",
    "        打印一句话，来形容在这里就吃饭的人数\n",
    "        '''\n",
    "        print(\"这里一共有\" + str(self.number_served) + \"正在吃饭！！\")\n",
    "    def set_number_served(self,number):\n",
    "        self.number_served = number\n",
    "        print(\"nijiushi 一个大傻子\")\n",
    "    # 下面就是设置一份方法，来时人数梯增加\n",
    "    def increment_number(self,nb):\n",
    "        self.number_served +=nb\n",
    "        print(\"这时候由来了\" + str(nb) + ' 个人吃饭！！')\n",
    "tupeng = Restaurant('niaho','food')\n",
    "tupeng.describe_restaurant()\n",
    "tupeng.open_restaurant()\n",
    "tupeng.set_number_served(100)\n",
    "tupeng.reading_number()\n",
    "tupeng.increment_number(25)\n",
    "tupeng.reading_number()"
   ]
  },
  {
   "cell_type": "code",
   "execution_count": 20,
   "metadata": {},
   "outputs": [
    {
     "data": {
      "text/plain": [
       "'\\n下面就是讲讲继承的使用\\n子类的方法\\nclass zilei_name(fulei_name):\\n   def __init__(fulei的参数所有的都要写):\\n        super().__init__(fulei 的参数，不要self就行)\\n        下面就是可以添加自己的类特有的属性\\n'"
      ]
     },
     "execution_count": 20,
     "metadata": {},
     "output_type": "execute_result"
    }
   ],
   "source": [
    "'''\n",
    "下面就是讲讲继承的使用\n",
    "子类的方法\n",
    "class zilei_name(fulei_name):\n",
    "   def __init__(fulei的参数所有的都要写):\n",
    "        super().__init__(fulei 的参数，不要self就行)\n",
    "        下面就是可以添加自己的类特有的属性\n",
    "'''"
   ]
  },
  {
   "cell_type": "code",
   "execution_count": 28,
   "metadata": {},
   "outputs": [
    {
     "name": "stdout",
     "output_type": "stream",
     "text": [
      "This restaurant's name is :\n",
      "Niaho\n",
      "THis restaurant's type is :\n",
      "Food\n",
      "Niaho is going,now! \n",
      "nijiushi 一个大傻子\n",
      "这里一共有100正在吃饭！！\n",
      "这时候由来了25 个人吃饭！！\n",
      "这里一共有125正在吃饭！！\n",
      "********************************************************************************\n",
      "下面就是我喜欢吃的冰淇淋名字:\n",
      "hah\n",
      "nihao\n",
      "tiantian\n",
      "renren\n"
     ]
    }
   ],
   "source": [
    "\n",
    "# 9-4 对前面的修改\n",
    "class Restaurant():\n",
    "    '''\n",
    "    设置两个属性，一个是名字一个是类型\n",
    "    '''\n",
    "    # 吸纳子啊这里的括号里面是三个参数，self也是一个参数，就是表示实例化的名字参数\n",
    "    def __init__(self,name,c_type):\n",
    "        '''\n",
    "        初始化属性\n",
    "        '''\n",
    "        self.name = name\n",
    "        self.type = c_type\n",
    "        # 添加一个新的属性\n",
    "        self.number_served = 0\n",
    "    def describe_restaurant(self):\n",
    "        print(\"This restaurant's name is :\\n\" + self.name.title())\n",
    "        print(\"THis restaurant's type is :\\n\" + self.type.title())\n",
    "        \n",
    "    def open_restaurant(self):\n",
    "        print(self.name.title() + \" is going,now! \")\n",
    "        \n",
    "    def reading_number(self):\n",
    "        '''\n",
    "        打印一句话，来形容在这里就吃饭的人数\n",
    "        '''\n",
    "        print(\"这里一共有\" + str(self.number_served) + \"正在吃饭！！\")\n",
    "    def set_number_served(self,number):\n",
    "        self.number_served = number\n",
    "        print(\"nijiushi 一个大傻子\")\n",
    "    # 下面就是设置一份方法，来时人数梯增加\n",
    "    def increment_number(self,nb):\n",
    "        self.number_served +=nb\n",
    "        print(\"这时候由来了\" + str(nb) + ' 个人吃饭！！')\n",
    "        \n",
    "        \n",
    "# 在原基础上添加类的继承，冰淇淋\n",
    "class IceCreamStand(Restaurant):\n",
    "    # 先是初始化自己的属性，然后才是初始化下一个，也就是父类的参数\n",
    "    def __init__(self,name,c_type,flavors):\n",
    "        '''\n",
    "        初始化父类的属性\n",
    "        '''\n",
    "        super().__init__(name,c_type)\n",
    "        # 定义特有的属性\n",
    "        self.flavors = flavors\n",
    "    # 这就是增加的一个显示冰淇淋名称的方法\n",
    "    def reading_flavors(self):\n",
    "        # 打印一句话，下面既是我喜欢吃的冰淇淋，名字\n",
    "        print(\"下面就是我喜欢吃的冰淇淋名字:\")\n",
    "        for falvor in self.flavors:\n",
    "            print(falvor)\n",
    "flavors=['hah','nihao','tiantian','renren']\n",
    "tupeng = IceCreamStand('niaho','food',flavors)\n",
    "tupeng.describe_restaurant()\n",
    "tupeng.open_restaurant()\n",
    "tupeng.set_number_served(100)\n",
    "tupeng.reading_number()\n",
    "tupeng.increment_number(25)\n",
    "tupeng.reading_number()\n",
    "print(\"*\" * 80)\n",
    "tupeng.reading_flavors()"
   ]
  },
  {
   "cell_type": "code",
   "execution_count": 31,
   "metadata": {},
   "outputs": [
    {
     "name": "stdout",
     "output_type": "stream",
     "text": [
      "My dog's name is Hhhhh.\n",
      "My dog is 99 years old.\n",
      "Can Add Post\n",
      "Can Delete Post\n",
      "Can Ban User\n"
     ]
    }
   ],
   "source": [
    "\n",
    "'''\n",
    "这里我用的dog的类。来继承\n",
    "9-7 管路员的题目：\n",
    "'''\n",
    "class Dog():\n",
    "    '''\n",
    "    一次模拟小狗的简单\n",
    "    '''\n",
    "    def __init__(self, name, age):\n",
    "        '''\n",
    "        初始化属性name，age \n",
    "        '''\n",
    "        self.name =  name\n",
    "        self.age = age\n",
    "    \n",
    "    def sit(self):\n",
    "        \"\"\"\n",
    "        模拟小狗呗命令蹲下是\n",
    "        \"\"\"\n",
    "        print(self.name.title() + \"is now sitting.\")\n",
    "        \n",
    "    def roll_over(self):\n",
    "        \"\"\"\n",
    "        模拟小狗呗命令时打滚\n",
    "        \"\"\"\n",
    "        print(self.name.title() + \"rolled over!\")\n",
    "\n",
    "class Admin(Dog):\n",
    "    def __init__(self,name,age,privileges):\n",
    "        super().__init__(name,age)\n",
    "        self.privileges = privileges\n",
    "    \n",
    "    def show_privileges(self):\n",
    "        for pri in self.privileges:\n",
    "            print(pri.title())\n",
    "# 写一个列表\n",
    "zifu = ['can add post', 'can delete post', 'can ban user']\n",
    "# 实现那实例化\n",
    "guhongyu = Admin('hhhhh',99,zifu)        \n",
    "# my_dog.name 就是访问属性\n",
    "print(\"My dog's name is \" + guhongyu.name.title() + \".\")\n",
    "print(\"My dog is \" + str(guhongyu.age) + \" years old.\")\n",
    "guhongyu.show_privileges()"
   ]
  },
  {
   "cell_type": "code",
   "execution_count": 51,
   "metadata": {},
   "outputs": [
    {
     "name": "stdout",
     "output_type": "stream",
     "text": [
      "My dog's name is Hhhhh.\n",
      "My dog is 99 years old.\n",
      "Can Add Post\n",
      "Can Delete Post\n",
      "Can Ban User\n"
     ]
    }
   ],
   "source": [
    "'''\n",
    "这里我用的dog的类。来继承\n",
    "9-7 管路员的题目：\n",
    "再进行了，改变，\n",
    "9-8\n",
    "'''\n",
    "class Dog():\n",
    "    '''\n",
    "    一次模拟小狗的简单\n",
    "    '''\n",
    "    def __init__(self, name, age):\n",
    "        '''\n",
    "        初始化属性name，age \n",
    "        '''\n",
    "        self.name =  name\n",
    "        self.age = age\n",
    "    \n",
    "    def sit(self):\n",
    "        \"\"\"\n",
    "        模拟小狗呗命令蹲下是\n",
    "        \"\"\"\n",
    "        print(self.name.title() + \"is now sitting.\")\n",
    "        \n",
    "    def roll_over(self):\n",
    "        \"\"\"\n",
    "        模拟小狗呗命令时打滚\n",
    "        \"\"\"\n",
    "        print(self.name.title() + \"rolled over!\")\n",
    "class privileges():\n",
    "    def __init__(self,privileges=['can add post', 'can delete post', 'can ban user']):\n",
    "        \n",
    "        self.privileges = privileges\n",
    "    def show_privileges(self):\n",
    "        for pri in self.privileges:\n",
    "            print(pri.title())\n",
    "            \n",
    "class Admin(Dog):\n",
    "    # 在这里应该将实例化privileges时，设置为默认值，这个时候，就不需要\n",
    "    # 将属性privileges写在init后面了。\n",
    "    def __init__(self,name,age):\n",
    "        super().__init__(name,age)\n",
    "        self.privileges = privileges()\n",
    "    \n",
    "# 实现那实例化\n",
    "guhongyu = Admin('hhhhh',99)        \n",
    "# my_dog.name 就是访问属性\n",
    "print(\"My dog's name is \" + guhongyu.name.title() + \".\")\n",
    "print(\"My dog is \" + str(guhongyu.age) + \" years old.\")\n",
    "guhongyu.privileges.show_privileges()"
   ]
  },
  {
   "cell_type": "code",
   "execution_count": 60,
   "metadata": {},
   "outputs": [
    {
     "ename": "TypeError",
     "evalue": "__init__() missing 1 required positional argument: 'privileges'",
     "output_type": "error",
     "traceback": [
      "\u001b[1;31m---------------------------------------------------------------------------\u001b[0m",
      "\u001b[1;31mTypeError\u001b[0m                                 Traceback (most recent call last)",
      "\u001b[1;32m<ipython-input-60-2139f2615f1a>\u001b[0m in \u001b[0;36m<module>\u001b[1;34m\u001b[0m\n\u001b[0;32m     41\u001b[0m \u001b[0mtiantian\u001b[0m \u001b[1;33m=\u001b[0m \u001b[0mprivileges\u001b[0m\u001b[1;33m(\u001b[0m\u001b[0mzifu\u001b[0m\u001b[1;33m)\u001b[0m\u001b[1;33m\u001b[0m\u001b[1;33m\u001b[0m\u001b[0m\n\u001b[0;32m     42\u001b[0m \u001b[1;31m# 实现那实例化\u001b[0m\u001b[1;33m\u001b[0m\u001b[1;33m\u001b[0m\u001b[1;33m\u001b[0m\u001b[0m\n\u001b[1;32m---> 43\u001b[1;33m \u001b[0mguhongyu\u001b[0m \u001b[1;33m=\u001b[0m \u001b[0mAdmin\u001b[0m\u001b[1;33m(\u001b[0m\u001b[1;34m'hhhhh'\u001b[0m\u001b[1;33m,\u001b[0m\u001b[1;36m99\u001b[0m\u001b[1;33m)\u001b[0m\u001b[1;33m\u001b[0m\u001b[1;33m\u001b[0m\u001b[0m\n\u001b[0m\u001b[0;32m     44\u001b[0m \u001b[1;31m# my_dog.name 就是访问属性\u001b[0m\u001b[1;33m\u001b[0m\u001b[1;33m\u001b[0m\u001b[1;33m\u001b[0m\u001b[0m\n\u001b[0;32m     45\u001b[0m \u001b[0mprint\u001b[0m\u001b[1;33m(\u001b[0m\u001b[1;34m\"My dog's name is \"\u001b[0m \u001b[1;33m+\u001b[0m \u001b[0mguhongyu\u001b[0m\u001b[1;33m.\u001b[0m\u001b[0mname\u001b[0m\u001b[1;33m.\u001b[0m\u001b[0mtitle\u001b[0m\u001b[1;33m(\u001b[0m\u001b[1;33m)\u001b[0m \u001b[1;33m+\u001b[0m \u001b[1;34m\".\"\u001b[0m\u001b[1;33m)\u001b[0m\u001b[1;33m\u001b[0m\u001b[1;33m\u001b[0m\u001b[0m\n",
      "\u001b[1;32m<ipython-input-60-2139f2615f1a>\u001b[0m in \u001b[0;36m__init__\u001b[1;34m(self, name, age)\u001b[0m\n\u001b[0;32m     37\u001b[0m     \u001b[1;32mdef\u001b[0m \u001b[0m__init__\u001b[0m\u001b[1;33m(\u001b[0m\u001b[0mself\u001b[0m\u001b[1;33m,\u001b[0m\u001b[0mname\u001b[0m\u001b[1;33m,\u001b[0m\u001b[0mage\u001b[0m\u001b[1;33m)\u001b[0m\u001b[1;33m:\u001b[0m\u001b[1;33m\u001b[0m\u001b[1;33m\u001b[0m\u001b[0m\n\u001b[0;32m     38\u001b[0m         \u001b[0msuper\u001b[0m\u001b[1;33m(\u001b[0m\u001b[1;33m)\u001b[0m\u001b[1;33m.\u001b[0m\u001b[0m__init__\u001b[0m\u001b[1;33m(\u001b[0m\u001b[0mname\u001b[0m\u001b[1;33m,\u001b[0m\u001b[0mage\u001b[0m\u001b[1;33m)\u001b[0m\u001b[1;33m\u001b[0m\u001b[1;33m\u001b[0m\u001b[0m\n\u001b[1;32m---> 39\u001b[1;33m         \u001b[0mself\u001b[0m\u001b[1;33m.\u001b[0m\u001b[0mprivileges\u001b[0m \u001b[1;33m=\u001b[0m \u001b[0mprivileges\u001b[0m\u001b[1;33m(\u001b[0m\u001b[1;33m)\u001b[0m\u001b[1;33m\u001b[0m\u001b[1;33m\u001b[0m\u001b[0m\n\u001b[0m\u001b[0;32m     40\u001b[0m \u001b[0mzifu\u001b[0m\u001b[1;33m=\u001b[0m \u001b[1;33m[\u001b[0m\u001b[1;34m'can add post'\u001b[0m\u001b[1;33m,\u001b[0m \u001b[1;34m'can delete post'\u001b[0m\u001b[1;33m,\u001b[0m \u001b[1;34m'can ban user'\u001b[0m\u001b[1;33m]\u001b[0m\u001b[1;33m\u001b[0m\u001b[1;33m\u001b[0m\u001b[0m\n\u001b[0;32m     41\u001b[0m \u001b[0mtiantian\u001b[0m \u001b[1;33m=\u001b[0m \u001b[0mprivileges\u001b[0m\u001b[1;33m(\u001b[0m\u001b[0mzifu\u001b[0m\u001b[1;33m)\u001b[0m\u001b[1;33m\u001b[0m\u001b[1;33m\u001b[0m\u001b[0m\n",
      "\u001b[1;31mTypeError\u001b[0m: __init__() missing 1 required positional argument: 'privileges'"
     ]
    }
   ],
   "source": [
    "'''\n",
    "这里我用的dog的类。来继承\n",
    "9-7 管路员的题目：\n",
    "再进行了，改变，\n",
    "9-8\n",
    "'''\n",
    "class Dog():\n",
    "    '''\n",
    "    一次模拟小狗的简单\n",
    "    '''\n",
    "    def __init__(self, name, age):\n",
    "        '''\n",
    "        初始化属性name，age \n",
    "        '''\n",
    "        self.name =  name\n",
    "        self.age = age\n",
    "    def sit(self):\n",
    "        \"\"\"\n",
    "        模拟小狗呗命令蹲下是\n",
    "        \"\"\"\n",
    "        print(self.name.title() + \"is now sitting.\")\n",
    "    def roll_over(self):\n",
    "        \"\"\"\n",
    "        模拟小狗呗命令时打滚\n",
    "        \"\"\"\n",
    "        print(self.name.title() + \"rolled over!\")\n",
    "class privileges():\n",
    "    def __init__(self,privileges):\n",
    "        self.privileges = privileges\n",
    "    def show_privileges(self):\n",
    "        for pri in self.privileges:\n",
    "            print(pri.title())\n",
    "            \n",
    "class Admin(Dog):\n",
    "    # 在这里应该将实例化privileges时，设置为默认值，这个时候，就不需要\n",
    "    # 将属性privileges写在init后面了。\n",
    "    def __init__(self,name,age):\n",
    "        super().__init__(name,age)\n",
    "        self.privileges = privileges()\n",
    "zifu= ['can add post', 'can delete post', 'can ban user']\n",
    "tiantian = privileges(zifu)    \n",
    "# 实现那实例化\n",
    "guhongyu = Admin('hhhhh',99)        \n",
    "# my_dog.name 就是访问属性\n",
    "print(\"My dog's name is \" + guhongyu.name.title() + \".\")\n",
    "print(\"My dog is \" + str(guhongyu.age) + \" years old.\")\n",
    "guhongyu.privileges.show_privileges()\n",
    "'''\n",
    "这里还是有问题的了，实例化做为属性时，还是参数那里有问题\n",
    "'''"
   ]
  },
  {
   "cell_type": "code",
   "execution_count": 61,
   "metadata": {},
   "outputs": [
    {
     "name": "stdout",
     "output_type": "stream",
     "text": [
      "My dog's name is Hhhhh.\n",
      "My dog is 99 years old.\n",
      "Can Add Post\n",
      "Can Delete Post\n",
      "Can Ban User\n"
     ]
    }
   ],
   "source": [
    "'''\n",
    "这里我用的dog的类。来继承\n",
    "9-7 管路员的题目：\n",
    "再进行了，改变，\n",
    "9-8\n",
    "'''\n",
    "class Dog():\n",
    "    '''\n",
    "    一次模拟小狗的简单\n",
    "    '''\n",
    "    def __init__(self, name, age):\n",
    "        '''\n",
    "        初始化属性name，age \n",
    "        '''\n",
    "        self.name =  name\n",
    "        self.age = age\n",
    "    \n",
    "    def sit(self):\n",
    "        \"\"\"\n",
    "        模拟小狗呗命令蹲下是\n",
    "        \"\"\"\n",
    "        print(self.name.title() + \"is now sitting.\")\n",
    "        \n",
    "    def roll_over(self):\n",
    "        \"\"\"\n",
    "        模拟小狗呗命令时打滚\n",
    "        \"\"\"\n",
    "        print(self.name.title() + \"rolled over!\")\n",
    "class privileges():\n",
    "    def __init__(self,privileges=[]):\n",
    "        privileges= ['can add post', 'can delete post', 'can ban user']\n",
    "        self.privileges = privileges\n",
    "    def show_privileges(self):\n",
    "        for pri in self.privileges:\n",
    "            print(pri.title())\n",
    "            \n",
    "class Admin(Dog):\n",
    "    # 在这里应该将实例化privileges时，设置为默认值，这个时候，就不需要\n",
    "    # 将属性privileges写在init后面了。\n",
    "    def __init__(self,name,age):\n",
    "        super().__init__(name,age)\n",
    "        self.privileges = privileges()\n",
    "    \n",
    "# 实现那实例化\n",
    "guhongyu = Admin('hhhhh',99)        \n",
    "# my_dog.name 就是访问属性\n",
    "print(\"My dog's name is \" + guhongyu.name.title() + \".\")\n",
    "print(\"My dog is \" + str(guhongyu.age) + \" years old.\")\n",
    "guhongyu.privileges.show_privileges()"
   ]
  },
  {
   "cell_type": "code",
   "execution_count": 9,
   "metadata": {},
   "outputs": [
    {
     "name": "stdout",
     "output_type": "stream",
     "text": [
      "这就是一个六面体的骰子 6\n",
      "1\n",
      "6\n",
      "3\n",
      "5\n",
      "3\n",
      "2\n",
      "3\n",
      "6\n",
      "2\n",
      "4\n"
     ]
    }
   ],
   "source": [
    "# 骰子  \n",
    "# 1.这就是六面体的骰子\n",
    "from random import randint\n",
    "class Die():\n",
    "    def __init__(self,sides=6):\n",
    "        self.sides = sides\n",
    "        print(\"这就是一个六面体的骰子 \" + str(sides))\n",
    "    def roll_die(self):\n",
    "        for i in range(10):\n",
    "            # 这个函数randint（）就是包含的1到6，首尾都有\n",
    "            x = randint(1,6)\n",
    "            print(x)\n",
    "tupeng = Die()\n",
    "tupeng.roll_die()"
   ]
  },
  {
   "cell_type": "code",
   "execution_count": 10,
   "metadata": {},
   "outputs": [
    {
     "name": "stdout",
     "output_type": "stream",
     "text": [
      "这就是一个 10面体的骰子 \n",
      "3\n",
      "1\n",
      "10\n",
      "3\n",
      "2\n",
      "9\n",
      "2\n",
      "7\n",
      "9\n",
      "8\n"
     ]
    }
   ],
   "source": [
    "# 2.这就是十面体的骰子\n",
    "from random import randint\n",
    "class Die():\n",
    "    def __init__(self,sides=10):\n",
    "        self.sides = sides\n",
    "        print(\"这就是一个 \" + str(sides) +\"面体的骰子 \")\n",
    "    def roll_die(self):\n",
    "        for i in range(10):\n",
    "            x = randint(1,10)\n",
    "            print(x)\n",
    "tupeng = Die()\n",
    "tupeng.roll_die()"
   ]
  },
  {
   "cell_type": "code",
   "execution_count": 11,
   "metadata": {},
   "outputs": [
    {
     "name": "stdout",
     "output_type": "stream",
     "text": [
      "这就是一个 20面体的骰子 \n",
      "10\n",
      "9\n",
      "4\n",
      "6\n",
      "5\n",
      "11\n",
      "10\n",
      "5\n",
      "10\n",
      "11\n"
     ]
    }
   ],
   "source": [
    "# 2.这就是十面体的骰子\n",
    "from random import randint\n",
    "class Die():\n",
    "    def __init__(self,sides=20):\n",
    "        self.sides = sides\n",
    "        print(\"这就是一个 \" + str(sides) +\"面体的骰子 \")\n",
    "    def roll_die(self):\n",
    "        for i in range(10):\n",
    "            x = randint(1,20)\n",
    "            print(x)\n",
    "tupeng = Die()\n",
    "tupeng.roll_die()"
   ]
  },
  {
   "cell_type": "code",
   "execution_count": null,
   "metadata": {},
   "outputs": [],
   "source": []
  }
 ],
 "metadata": {
  "kernelspec": {
   "display_name": "Python 3",
   "language": "python",
   "name": "python3"
  },
  "language_info": {
   "codemirror_mode": {
    "name": "ipython",
    "version": 3
   },
   "file_extension": ".py",
   "mimetype": "text/x-python",
   "name": "python",
   "nbconvert_exporter": "python",
   "pygments_lexer": "ipython3",
   "version": "3.7.1"
  }
 },
 "nbformat": 4,
 "nbformat_minor": 2
}
