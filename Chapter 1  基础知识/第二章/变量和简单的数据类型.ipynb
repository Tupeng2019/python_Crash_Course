{
 "cells": [
  {
   "cell_type": "code",
   "execution_count": 1,
   "metadata": {},
   "outputs": [
    {
     "name": "stdout",
     "output_type": "stream",
     "text": [
      "Adf Dfjojf\n"
     ]
    }
   ],
   "source": [
    "# 字符串 \n",
    "# title（） 的作就是将 字符串中的手写字母编程的大写\n",
    "name = \"adf dfjojf\"\n",
    "print(name.title())"
   ]
  },
  {
   "cell_type": "code",
   "execution_count": 2,
   "metadata": {},
   "outputs": [
    {
     "name": "stdout",
     "output_type": "stream",
     "text": [
      "ADF DFJOJF\n",
      "adf dfjojf\n"
     ]
    }
   ],
   "source": [
    "# upper()就是将其全部显示成大写\n",
    "# lower（）就是将全部变成小写\n",
    "print(name.upper())\n",
    "print(name.lower())"
   ]
  },
  {
   "cell_type": "code",
   "execution_count": 7,
   "metadata": {},
   "outputs": [
    {
     "name": "stdout",
     "output_type": "stream",
     "text": [
      "'hahha   '\n"
     ]
    }
   ],
   "source": [
    "# rstrip() 就是暂时删除字符串末尾的空白，就是空格\n",
    "'''\n",
    "rstrip()就是剔除末尾的空格\n",
    "lstrip()就是剔除开头的空格\n",
    "strip（）就是剔除首尾的空格\n",
    "'''\n",
    "nihao = \"'hahha   '\"\n",
    "print(nihao.rstrip())"
   ]
  },
  {
   "cell_type": "code",
   "execution_count": 8,
   "metadata": {},
   "outputs": [
    {
     "name": "stdout",
     "output_type": "stream",
     "text": [
      "'hahha   '\n"
     ]
    }
   ],
   "source": [
    "print(nihao)"
   ]
  },
  {
   "cell_type": "code",
   "execution_count": 9,
   "metadata": {},
   "outputs": [
    {
     "name": "stdout",
     "output_type": "stream",
     "text": [
      "The Zen of Python, by Tim Peters\n",
      "\n",
      "Beautiful is better than ugly.\n",
      "Explicit is better than implicit.\n",
      "Simple is better than complex.\n",
      "Complex is better than complicated.\n",
      "Flat is better than nested.\n",
      "Sparse is better than dense.\n",
      "Readability counts.\n",
      "Special cases aren't special enough to break the rules.\n",
      "Although practicality beats purity.\n",
      "Errors should never pass silently.\n",
      "Unless explicitly silenced.\n",
      "In the face of ambiguity, refuse the temptation to guess.\n",
      "There should be one-- and preferably only one --obvious way to do it.\n",
      "Although that way may not be obvious at first unless you're Dutch.\n",
      "Now is better than never.\n",
      "Although never is often better than *right* now.\n",
      "If the implementation is hard to explain, it's a bad idea.\n",
      "If the implementation is easy to explain, it may be a good idea.\n",
      "Namespaces are one honking great idea -- let's do more of those!\n"
     ]
    }
   ],
   "source": [
    "import this\n",
    "'''\n",
    "Tim Peters的Python之禅\n",
    "\n",
    "美丽胜过丑陋。\n",
    "显式优于隐式。\n",
    "简单比复杂更好。\n",
    "复杂比复杂更好。\n",
    "Flat优于嵌套。\n",
    "稀疏优于密集。\n",
    "可读性很重要。\n",
    "特殊情况不足以打破规则。\n",
    "虽然实用性胜过纯洁。\n",
    "错误不应该默默地传递。\n",
    "除非明确沉默。\n",
    "面对模棱两可，拒绝猜测的诱惑。\n",
    "应该有一个 - 最好只有一个 - 明显的方法来做到这一点。\n",
    "虽然这种方式起初可能并不明显，除非你是荷兰人。\n",
    "现在比永远好。\n",
    "虽然现在永远不会比*正确好。\n",
    "如果实施很难解释，这是一个坏主意。\n",
    "如果实现很容易解释，那可能是个好主意。\n",
    "命名空间是一个很棒的主意 - 让我们做更多的事情吧！\n",
    "'''"
   ]
  },
  {
   "cell_type": "code",
   "execution_count": null,
   "metadata": {},
   "outputs": [],
   "source": []
  }
 ],
 "metadata": {
  "kernelspec": {
   "display_name": "Python 3",
   "language": "python",
   "name": "python3"
  },
  "language_info": {
   "codemirror_mode": {
    "name": "ipython",
    "version": 3
   },
   "file_extension": ".py",
   "mimetype": "text/x-python",
   "name": "python",
   "nbconvert_exporter": "python",
   "pygments_lexer": "ipython3",
   "version": "3.7.1"
  }
 },
 "nbformat": 4,
 "nbformat_minor": 2
}
