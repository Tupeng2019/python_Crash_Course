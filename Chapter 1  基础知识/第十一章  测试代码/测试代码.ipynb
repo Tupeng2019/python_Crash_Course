{
 "cells": [
  {
   "cell_type": "code",
   "execution_count": 3,
   "metadata": {},
   "outputs": [
    {
     "name": "stdout",
     "output_type": "stream",
     "text": [
      "Enter 'q' at any time to quit\n",
      "\n",
      "Please give me a first name: janis\n",
      "Please give me a last name:joplin\n",
      "\n",
      "Neatly formatted name:Janis Joplin.\n",
      "\n",
      "Please give me a first name: bob\n",
      "Please give me a last name:dylan\n",
      "\n",
      "Neatly formatted name:Bob Dylan.\n",
      "\n",
      "Please give me a first name: q\n"
     ]
    }
   ],
   "source": [
    "def get_formatted_name(first,last):\n",
    "    \"\"\"\n",
    "    Generate a neatly formatted full name\n",
    "    \"\"\"\n",
    "    full_name = first + ' ' + last\n",
    "    return full_name.title()\n",
    "\n",
    "\n",
    "print(\"Enter 'q' at any time to quit\")\n",
    "while True:\n",
    "    first = input(\"\\nPlease give me a first name: \")\n",
    "    if first == 'q':\n",
    "        break\n",
    "    last = input(\"Please give me a last name:\")\n",
    "    if last == 'q':\n",
    "        break\n",
    "        \n",
    "    formatted_name = get_formatted_name(first,last)\n",
    "    print(\"\\nNeatly formatted name:\" + formatted_name + '.')"
   ]
  },
  {
   "cell_type": "code",
   "execution_count": 4,
   "metadata": {},
   "outputs": [
    {
     "name": "stderr",
     "output_type": "stream",
     "text": [
      "E\n",
      "======================================================================\n",
      "ERROR: C:\\Users\\Tupeng\\AppData\\Roaming\\jupyter\\runtime\\kernel-dee59169-dd13-46ad-8231-3f18bbf48279 (unittest.loader._FailedTest)\n",
      "----------------------------------------------------------------------\n",
      "AttributeError: module '__main__' has no attribute 'C:\\Users\\Tupeng\\AppData\\Roaming\\jupyter\\runtime\\kernel-dee59169-dd13-46ad-8231-3f18bbf48279'\n",
      "\n",
      "----------------------------------------------------------------------\n",
      "Ran 1 test in 0.002s\n",
      "\n",
      "FAILED (errors=1)\n"
     ]
    },
    {
     "ename": "SystemExit",
     "evalue": "True",
     "output_type": "error",
     "traceback": [
      "An exception has occurred, use %tb to see the full traceback.\n",
      "\u001b[1;31mSystemExit\u001b[0m\u001b[1;31m:\u001b[0m True\n"
     ]
    },
    {
     "name": "stderr",
     "output_type": "stream",
     "text": [
      "D:\\anaconda3\\lib\\site-packages\\IPython\\core\\interactiveshell.py:3275: UserWarning: To exit: use 'exit', 'quit', or Ctrl-D.\n",
      "  warn(\"To exit: use 'exit', 'quit', or Ctrl-D.\", stacklevel=1)\n"
     ]
    }
   ],
   "source": [
    "'''\n",
    "单元测试和测试用例\n",
    "模块unittest 就是提供代码测试的工具\n",
    "'''\n",
    "import unittest\n",
    "# 这个类的名字是可以随便写的\n",
    "# 这个类必须是继承unittest.TestCase 的类才行\n",
    "\n",
    "class NamesTestCase(unittest.TestCase):\n",
    "    \"\"\"测试name_function.py\"\"\"\n",
    "    def test_first_last_name(self):\n",
    "        \"\"\"能够正确处理像Janis Joplin这样的名字吗\"\"\"\n",
    "        formatted_name = get_formatted_name('janis','joplin')\n",
    "        self.assertEqual(formatted_name,'Janis Joplin')\n",
    "unittest.main()"
   ]
  },
  {
   "cell_type": "code",
   "execution_count": 5,
   "metadata": {},
   "outputs": [
    {
     "name": "stdout",
     "output_type": "stream",
     "text": [
      "Enter 'q' at any time to quit\n",
      "\n",
      "Please give me a fcity name: santiage\n",
      "Please give me a country name:chile\n",
      "\n",
      "Neatly two name:Santiage Chile.\n",
      "\n",
      "Please give me a fcity name: q\n"
     ]
    }
   ],
   "source": [
    "def get_two_name(city,country):\n",
    "    \"\"\"\n",
    "    Generate a neatly formatted full name\n",
    "    \"\"\"\n",
    "    full_name = city + ' ' + country\n",
    "    return full_name.title()\n",
    "\n",
    "\n",
    "print(\"Enter 'q' at any time to quit\")\n",
    "while True:\n",
    "    first = input(\"\\nPlease give me a fcity name: \")\n",
    "    if first == 'q':\n",
    "        break\n",
    "    last = input(\"Please give me a country name:\")\n",
    "    if last == 'q':\n",
    "        break\n",
    "        \n",
    "    two_name = get_two_name(first,last)\n",
    "    print(\"\\nNeatly two name:\" + two_name + '.')\n"
   ]
  },
  {
   "cell_type": "code",
   "execution_count": 6,
   "metadata": {},
   "outputs": [
    {
     "name": "stdout",
     "output_type": "stream",
     "text": [
      "Enter 'q' at any time to quit\n",
      "\n",
      "Please give me a fcity name: santiage\n",
      "Please give me a country name:chile\n",
      "\n",
      "Neatly two name:Santiage Chile.\n",
      "\n",
      "Please give me a fcity name: q\n"
     ]
    },
    {
     "name": "stderr",
     "output_type": "stream",
     "text": [
      "E\n",
      "======================================================================\n",
      "ERROR: C:\\Users\\Tupeng\\AppData\\Roaming\\jupyter\\runtime\\kernel-dee59169-dd13-46ad-8231-3f18bbf48279 (unittest.loader._FailedTest)\n",
      "----------------------------------------------------------------------\n",
      "AttributeError: module '__main__' has no attribute 'C:\\Users\\Tupeng\\AppData\\Roaming\\jupyter\\runtime\\kernel-dee59169-dd13-46ad-8231-3f18bbf48279'\n",
      "\n",
      "----------------------------------------------------------------------\n",
      "Ran 1 test in 0.002s\n",
      "\n",
      "FAILED (errors=1)\n"
     ]
    },
    {
     "ename": "SystemExit",
     "evalue": "True",
     "output_type": "error",
     "traceback": [
      "An exception has occurred, use %tb to see the full traceback.\n",
      "\u001b[1;31mSystemExit\u001b[0m\u001b[1;31m:\u001b[0m True\n"
     ]
    },
    {
     "name": "stderr",
     "output_type": "stream",
     "text": [
      "D:\\anaconda3\\lib\\site-packages\\IPython\\core\\interactiveshell.py:3275: UserWarning: To exit: use 'exit', 'quit', or Ctrl-D.\n",
      "  warn(\"To exit: use 'exit', 'quit', or Ctrl-D.\", stacklevel=1)\n"
     ]
    }
   ],
   "source": [
    "def get_two_name(city,country):\n",
    "    \"\"\"\n",
    "    Generate a neatly formatted full name\n",
    "    \"\"\"\n",
    "    full_name = city + ' ' + country\n",
    "    return full_name.title()\n",
    "\n",
    "\n",
    "print(\"Enter 'q' at any time to quit\")\n",
    "while True:\n",
    "    first = input(\"\\nPlease give me a fcity name: \")\n",
    "    if first == 'q':\n",
    "        break\n",
    "    last = input(\"Please give me a country name:\")\n",
    "    if last == 'q':\n",
    "        break\n",
    "        \n",
    "    two_name = get_two_name(first,last)\n",
    "    print(\"\\nNeatly two name:\" + two_name + '.')\n",
    "\n",
    "    \n",
    "\n",
    "import unittest\n",
    "class twoTest(unittest.TestCase):\n",
    "    \"\"\"测试前面的函数\"\"\"\n",
    "    def test_two_name(self):\n",
    "        \"\"\"能否正确处理城市和国家的名字\"\"\"\n",
    "        two_names = get_two_name('santiage', 'chile')\n",
    "        self.asserEqual(two_names,'Santiage Chile')\n",
    "unittest.main()\n",
    "    \n",
    "    \n",
    "    "
   ]
  },
  {
   "cell_type": "code",
   "execution_count": null,
   "metadata": {},
   "outputs": [],
   "source": []
  }
 ],
 "metadata": {
  "kernelspec": {
   "display_name": "Python 3",
   "language": "python",
   "name": "python3"
  },
  "language_info": {
   "codemirror_mode": {
    "name": "ipython",
    "version": 3
   },
   "file_extension": ".py",
   "mimetype": "text/x-python",
   "name": "python",
   "nbconvert_exporter": "python",
   "pygments_lexer": "ipython3",
   "version": "3.7.1"
  }
 },
 "nbformat": 4,
 "nbformat_minor": 2
}
