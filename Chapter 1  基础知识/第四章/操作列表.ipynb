{
 "cells": [
  {
   "cell_type": "code",
   "execution_count": 2,
   "metadata": {},
   "outputs": [
    {
     "name": "stdout",
     "output_type": "stream",
     "text": [
      "0\n",
      "1\n",
      "2\n",
      "3\n",
      "4\n"
     ]
    }
   ],
   "source": [
    "'''\n",
    "首先讲到的就是 for 循环\n",
    "1. 这里第一个，就是讲的，利用for循环，打印出列表信息\n",
    "2. 创建数字列表\n",
    "'''\n",
    "# 1.使用range函数 \n",
    "for tupeng in range(5):\n",
    "    print(tupeng)"
   ]
  },
  {
   "cell_type": "code",
   "execution_count": 3,
   "metadata": {},
   "outputs": [
    {
     "name": "stdout",
     "output_type": "stream",
     "text": [
      "1\n",
      "2\n",
      "3\n",
      "4\n"
     ]
    }
   ],
   "source": [
    "for tupeng in range(1, 5):\n",
    "    print(tupeng)"
   ]
  },
  {
   "cell_type": "code",
   "execution_count": 5,
   "metadata": {},
   "outputs": [
    {
     "name": "stdout",
     "output_type": "stream",
     "text": [
      "[1, 2, 3, 4, 5]\n"
     ]
    }
   ],
   "source": [
    "# 来创建列表 \n",
    "# 这里就利用函数 list（）\n",
    "number = list(range(1,6))\n",
    "print(number)"
   ]
  },
  {
   "cell_type": "code",
   "execution_count": 6,
   "metadata": {},
   "outputs": [
    {
     "name": "stdout",
     "output_type": "stream",
     "text": [
      "[2, 4, 6, 8, 10]\n"
     ]
    }
   ],
   "source": [
    "# 在使用range中，还可以指定步长的\n",
    "# 打印的就是2-10 以类的所有的偶数\n",
    "tp = list(range(2,11,2))\n",
    "print(tp)"
   ]
  },
  {
   "cell_type": "code",
   "execution_count": 7,
   "metadata": {},
   "outputs": [
    {
     "name": "stdout",
     "output_type": "stream",
     "text": [
      "[1, 4, 9, 16, 25, 36, 49, 64, 81, 100]\n"
     ]
    }
   ],
   "source": [
    "# 李永刚range来创建1-10 以类的平方列表\n",
    "squares = []\n",
    "for i in range(1,11):\n",
    "    square = i **2\n",
    "    squares.append(square)\n",
    "print(squares)"
   ]
  },
  {
   "cell_type": "code",
   "execution_count": 8,
   "metadata": {},
   "outputs": [
    {
     "name": "stdout",
     "output_type": "stream",
     "text": [
      "[1, 4, 9, 16, 25, 36, 49, 64, 81, 100]\n"
     ]
    }
   ],
   "source": [
    "'''\n",
    "*** 列表解析：\n",
    "'''\n",
    "# 列表解析\n",
    "# *** 在这里的聚句末是没有冒号的，一定记住\n",
    "squares = [value**2 for value in range(1,11)]\n",
    "print(squares)"
   ]
  },
  {
   "cell_type": "code",
   "execution_count": 9,
   "metadata": {},
   "outputs": [
    {
     "name": "stdout",
     "output_type": "stream",
     "text": [
      "1\n",
      "3\n",
      "5\n",
      "7\n",
      "9\n",
      "11\n",
      "13\n",
      "15\n",
      "17\n",
      "19\n"
     ]
    }
   ],
   "source": [
    "# 练习题\n",
    "# 1-20 之间的奇数\n",
    "for i in range(1,21,2):\n",
    "    print(i)"
   ]
  },
  {
   "cell_type": "code",
   "execution_count": 10,
   "metadata": {},
   "outputs": [
    {
     "name": "stdout",
     "output_type": "stream",
     "text": [
      "[3, 6, 9, 12, 15, 18, 21, 24, 27, 30]\n"
     ]
    }
   ],
   "source": [
    "# 3-30 之间能够被3整除的数字，并打印出来\n",
    "jishu = []\n",
    "for i in range(3,31):\n",
    "    if i %3 ==0:\n",
    "        jishu.append(i)\n",
    "print(jishu)"
   ]
  },
  {
   "cell_type": "code",
   "execution_count": 13,
   "metadata": {},
   "outputs": [
    {
     "name": "stdout",
     "output_type": "stream",
     "text": [
      "[1, 8, 27, 64, 125, 216, 343, 512, 729, 1000]\n"
     ]
    }
   ],
   "source": [
    "# 立方解析\n",
    "t = [i**3 for i in range(1,11)]\n",
    "print(t)"
   ]
  },
  {
   "cell_type": "code",
   "execution_count": 14,
   "metadata": {},
   "outputs": [
    {
     "data": {
      "text/plain": [
       "'\\n使用列表的一部分，既是 切片\\n   -- 这一部分 都是比较熟悉的，所以就不一一练习了\\n'"
      ]
     },
     "execution_count": 14,
     "metadata": {},
     "output_type": "execute_result"
    }
   ],
   "source": [
    "'''\n",
    "使用列表的一部分，既是 切片\n",
    "   -- 这一部分 都是比较熟悉的，所以就不一一练习了\n",
    "'''\n"
   ]
  },
  {
   "cell_type": "code",
   "execution_count": 15,
   "metadata": {},
   "outputs": [
    {
     "data": {
      "text/plain": [
       "'\\n复制列表\\n复制列表的方式一般也是有两种的，\\n一种既是直接产生一个副本\\n另外一种就是，直接将其赋值给另外一个变量，但是这两个变量其实都是一样的\\n            如果对其中一个改变另外一个也是会有所变化的了\\n'"
      ]
     },
     "execution_count": 15,
     "metadata": {},
     "output_type": "execute_result"
    }
   ],
   "source": [
    "'''\n",
    "复制列表\n",
    "复制列表的方式一般也是有两种的，\n",
    "一种既是直接产生一个副本\n",
    "另外一种就是，直接将其赋值给另外一个变量，但是这两个变量其实都是一样的\n",
    "            如果对其中一个改变另外一个也是会有所变化的了\n",
    "'''"
   ]
  },
  {
   "cell_type": "code",
   "execution_count": 16,
   "metadata": {},
   "outputs": [
    {
     "name": "stdout",
     "output_type": "stream",
     "text": [
      "appple\n",
      "orange\n",
      "banana\n",
      "nihao\n"
     ]
    }
   ],
   "source": [
    "'''\n",
    "下面就是讲讲我们的  元组-tuple \n",
    "元组就是不可改变值的列表  是用圆括号来表示的（）\n",
    "\n",
    "'''\n",
    "# 练习 4-13 \n",
    "food = ('appple', 'orange', 'banana','nihao')\n",
    "for i in food:\n",
    "    print(i)"
   ]
  },
  {
   "cell_type": "code",
   "execution_count": null,
   "metadata": {},
   "outputs": [],
   "source": [
    "'''\n",
    "设置代码格式\n",
    "'''"
   ]
  }
 ],
 "metadata": {
  "kernelspec": {
   "display_name": "Python 3",
   "language": "python",
   "name": "python3"
  },
  "language_info": {
   "codemirror_mode": {
    "name": "ipython",
    "version": 3
   },
   "file_extension": ".py",
   "mimetype": "text/x-python",
   "name": "python",
   "nbconvert_exporter": "python",
   "pygments_lexer": "ipython3",
   "version": "3.7.1"
  }
 },
 "nbformat": 4,
 "nbformat_minor": 2
}
