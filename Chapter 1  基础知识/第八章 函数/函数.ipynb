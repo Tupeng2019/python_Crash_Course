{
 "cells": [
  {
   "cell_type": "code",
   "execution_count": 1,
   "metadata": {},
   "outputs": [
    {
     "name": "stdout",
     "output_type": "stream",
     "text": [
      "{'first': 'jimi', 'last': 'hendrix', 'age': 27}\n"
     ]
    }
   ],
   "source": [
    "'''\n",
    "函数返回字典\n",
    "'''\n",
    "def build_person(first_name,last_name,age = ''):\n",
    "    '''\n",
    "    返回一个字典，其中包含有一个有关一个人的信息\n",
    "    '''\n",
    "    person = {'first':first_name,'last':last_name}\n",
    "    if age:\n",
    "        person['age'] = age\n",
    "    return person\n",
    "musician = build_person('jimi','hendrix',age = 27)\n",
    "print(musician)"
   ]
  },
  {
   "cell_type": "code",
   "execution_count": 8,
   "metadata": {},
   "outputs": [
    {
     "data": {
      "text/plain": [
       "'Santiage Chile'"
      ]
     },
     "execution_count": 8,
     "metadata": {},
     "output_type": "execute_result"
    }
   ],
   "source": [
    "# 8-6 \n",
    "def city_country(city,country):\n",
    "    difang = city +' '+ country\n",
    "    return  difang.title()\n",
    "city_country(\"santiage\" ,\"chile\")"
   ]
  },
  {
   "cell_type": "code",
   "execution_count": 9,
   "metadata": {},
   "outputs": [
    {
     "name": "stdout",
     "output_type": "stream",
     "text": [
      "Santiage Chile\n"
     ]
    }
   ],
   "source": [
    "# 8-6 \n",
    "def city_country(city,country):\n",
    "    difang = city +' '+ country\n",
    "    return  difang.title()\n",
    "niaho = city_country(\"santiage\" ,\"chile\")\n",
    "print(niaho)"
   ]
  },
  {
   "cell_type": "code",
   "execution_count": 12,
   "metadata": {},
   "outputs": [
    {
     "name": "stdout",
     "output_type": "stream",
     "text": [
      "Printing model: dodecahedron\n",
      "Printing model: dodecahedron\n",
      "Printing model: dodecahedron\n",
      "\n",
      " The following models have been printed:\n",
      "dodecahedron\n",
      "robot pendant\n",
      "iphone case\n"
     ]
    }
   ],
   "source": [
    "# 在函数中修改列表\n",
    "# 首先创建一个列表，其中就是包含一些要打印的设计\n",
    "unprinted_designs = ['iphone case', 'robot pendant', 'dodecahedron']\n",
    "completed_models = []\n",
    "# 模拟打印每一个设计，知道没有未打印的设计为止\n",
    "# 打印每一个设计之后，都将其移动到uncompleted_models当中去\n",
    "while unprinted_designs:\n",
    "    current_designs = unprinted_designs.pop()\n",
    "    #模拟根据设计制作3D打印模型的过程\n",
    "    print(\"Printing model: \" + current_design)\n",
    "    completed_models.append(current_designs)\n",
    "# 显示打印好的所有的模型\n",
    "print(\"\\n The following models have been printed:\")\n",
    "for completed_model in completed_models:\n",
    "    print(completed_model)"
   ]
  },
  {
   "cell_type": "code",
   "execution_count": 13,
   "metadata": {},
   "outputs": [
    {
     "name": "stdout",
     "output_type": "stream",
     "text": [
      "每一个魔术师的名字是：yitian\n",
      "每一个魔术师的名字是：ertian\n",
      "每一个魔术师的名字是：santian\n",
      "每一个魔术师的名字是：sitain\n"
     ]
    }
   ],
   "source": [
    "# 8-9 魔术师\n",
    "names = ['yitian','ertian','santian','sitain']\n",
    "def show_magicians(names):\n",
    "    for name in names:\n",
    "        print(\"每一个魔术师的名字是：\" + name)\n",
    "tiantian = show_magicians(names)\n"
   ]
  },
  {
   "cell_type": "code",
   "execution_count": 15,
   "metadata": {},
   "outputs": [
    {
     "name": "stdout",
     "output_type": "stream",
     "text": [
      "这些魔术师的名字就是：\n",
      "Yitian\n",
      "Ertian\n",
      "Santian\n",
      "Sitain\n"
     ]
    }
   ],
   "source": [
    "# 8-9 魔术师\n",
    "names = ['yitian','ertian','santian','sitain']\n",
    "def show_magicians(names):\n",
    "    for name in names:\n",
    "        print(name.title())\n",
    "print(\"这些魔术师的名字就是：\")\n",
    "tiantian = show_magicians(names)\n"
   ]
  },
  {
   "cell_type": "code",
   "execution_count": 20,
   "metadata": {},
   "outputs": [
    {
     "name": "stdout",
     "output_type": "stream",
     "text": [
      "['yitian The great', 'ertian The great', 'santian The great', 'sitain The great']\n",
      "********************************************************************************\n",
      "yitian The great\n",
      "ertian The great\n",
      "santian The great\n",
      "sitain The great\n"
     ]
    }
   ],
   "source": [
    "# 8-9 魔术师\n",
    "names = ['yitian','ertian','santian','sitain']\n",
    "make_named =[]\n",
    "# 对魔术师列表进行修改\n",
    "def make_great(names):\n",
    "    for make_name in names:\n",
    "        current_name =make_name+ \" The great\"\n",
    "        make_named.append(current_name)\n",
    "    return make_named\n",
    "\n",
    "def show_magicians(names):\n",
    "    for name in names:\n",
    "        print( name)\n",
    "        \n",
    "make_named = make_great(names)\n",
    "print(make_named)\n",
    "print('*' *80)\n",
    "tiantian = show_magicians(make_named)\n"
   ]
  },
  {
   "cell_type": "code",
   "execution_count": 21,
   "metadata": {},
   "outputs": [
    {
     "name": "stdout",
     "output_type": "stream",
     "text": [
      "['yitian The great', 'ertian The great', 'santian The great', 'sitain The great']\n",
      "********************************************************************************\n",
      "yitian The great\n",
      "ertian The great\n",
      "santian The great\n",
      "sitain The great\n"
     ]
    }
   ],
   "source": [
    "# 8-9 魔术师\n",
    "names = ['yitian','ertian','santian','sitain']\n",
    "make_named =[]\n",
    "# 对魔术师列表进行修改\n",
    "def make_great(names):\n",
    "    for make_name in names:\n",
    "        current_name =make_name+ \" The great\"\n",
    "        make_named.append(current_name)\n",
    "    return make_named\n",
    "\n",
    "def show_magicians(names):\n",
    "    for name in names:\n",
    "        print( name)\n",
    "        \n",
    "make_named = make_great(names[:])\n",
    "print(make_named)\n",
    "print('*' *80)\n",
    "tiantian = show_magicians(make_named[:])\n"
   ]
  },
  {
   "cell_type": "code",
   "execution_count": 22,
   "metadata": {},
   "outputs": [
    {
     "data": {
      "text/plain": [
       "'\\n这种特别的形式就是在命名形参的时候，利用一个*号，加上形参的名字，形如：*names\\n这种命名的方式，就是代表建立一个names的元组\\n'"
      ]
     },
     "execution_count": 22,
     "metadata": {},
     "output_type": "execute_result"
    }
   ],
   "source": [
    "\n",
    "# 传递任意的数量的实参\n",
    "'''\n",
    "这种特别的形式就是在命名形参的时候，利用一个*号，加上形参的名字，形如：*names\n",
    "这种命名的方式，就是代表建立一个names的元组\n",
    "'''"
   ]
  },
  {
   "cell_type": "code",
   "execution_count": 28,
   "metadata": {},
   "outputs": [
    {
     "name": "stdout",
     "output_type": "stream",
     "text": [
      "jack\n",
      "pig\n",
      "dog\n",
      "taintian\n"
     ]
    }
   ],
   "source": [
    "# 8-12 \n",
    "# 三明治的问题,先是考虑列表的问题\n",
    "def sandwich(foods):\n",
    "    for food in foods:\n",
    "        print(food)\n",
    "dicts = ['jack','pig','dog','taintian']\n",
    "sandwich(dicts)\n",
    "# 好好分析结果，看看和下面的有什么的不同"
   ]
  },
  {
   "cell_type": "code",
   "execution_count": 27,
   "metadata": {},
   "outputs": [
    {
     "name": "stdout",
     "output_type": "stream",
     "text": [
      "- Jack\n",
      "- Pig\n",
      "- Dog\n",
      "- Taintian\n"
     ]
    }
   ],
   "source": [
    "# 8-12 \n",
    "# 三明治的问题,先是考虑列表的问题\n",
    "def sandwich(*foods):\n",
    "    for food in foods:\n",
    "        print(\"- \" +food.title())\n",
    "\n",
    "sandwich('jack','pig','dog','taintian')"
   ]
  },
  {
   "cell_type": "code",
   "execution_count": 30,
   "metadata": {},
   "outputs": [
    {
     "name": "stdout",
     "output_type": "stream",
     "text": [
      "{'zhizuoshang': 'subrau', 'xinhao': 'outback', 'key': True}\n"
     ]
    }
   ],
   "source": [
    "'''\n",
    "8-14 汽车的问题\n",
    "利用形参是字典的形式\n",
    "'''\n",
    "def make_car(shang,hao,**car_infos):\n",
    "    info = {}\n",
    "    info['zhizuoshang'] = shang\n",
    "    info['xinhao'] = hao\n",
    "    for key,value in car_infos.items():\n",
    "        info['key'] = value\n",
    "    return info\n",
    "car = make_car('subrau','outback',color = 'blue',tow_backage = True)\n",
    "print(car)"
   ]
  },
  {
   "cell_type": "code",
   "execution_count": null,
   "metadata": {},
   "outputs": [],
   "source": []
  }
 ],
 "metadata": {
  "kernelspec": {
   "display_name": "Python 3",
   "language": "python",
   "name": "python3"
  },
  "language_info": {
   "codemirror_mode": {
    "name": "ipython",
    "version": 3
   },
   "file_extension": ".py",
   "mimetype": "text/x-python",
   "name": "python",
   "nbconvert_exporter": "python",
   "pygments_lexer": "ipython3",
   "version": "3.7.1"
  }
 },
 "nbformat": 4,
 "nbformat_minor": 2
}
